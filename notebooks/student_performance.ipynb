{
 "cells": [
  {
   "cell_type": "code",
   "execution_count": null,
   "metadata": {},
   "outputs": [],
   "source": [
    "import pandas as pd\n",
    "import numpy as np\n",
    "import seaborn as sns\n",
    "import matplotlib.pyplot as plt\n",
    "import datetime \n",
    "%matplotlib inline\n",
    "from sklearn import preprocessing\n",
    "import warnings\n",
    "warnings.filterwarnings(action = 'ignore')"
   ]
  },
  {
   "cell_type": "markdown",
   "metadata": {},
   "source": [
    "### Dataset\n",
    "This project analyses students' achievements in secondary education of two Portuguese schools. The attributes of the dataset include student grades, demographic, social and school-related features) and it was collected by using school reports and questionnaires. Two datasets are provided regarding the performance in two distinct subjects: Mathematics (mat) and Portuguese language (por).\n",
    "\n",
    "I classified the students into three categories, \"excellent\", \"average\", and \"poor\", according to their final exam performance. Then I analyzed a few features that have significant influence on students' final performance, including using the internet as a learning resource,Romantic Status, Alcohol Consumption, Parents Education Level, etc. Finally, using available predictive features, I have tried various machine learning models to predict students' final performance classification and have compared models performance based on ROC index.\n",
    "\n",
    "Dataset available at: http://archive.ics.uci.edu/ml/datasets/Student+Performance#"
   ]
  },
  {
   "cell_type": "code",
   "execution_count": null,
   "metadata": {},
   "outputs": [],
   "source": [
    "train_data = pd.read_csv('../data/student-mat.csv', sep=\";\")\n",
    "train_data_1 = pd.read_csv('../data/student-por.csv', sep=\";\")"
   ]
  },
  {
   "cell_type": "code",
   "execution_count": null,
   "metadata": {},
   "outputs": [],
   "source": [
    "train_data.head()"
   ]
  },
  {
   "cell_type": "code",
   "execution_count": null,
   "metadata": {},
   "outputs": [],
   "source": [
    "train_data_1.head()"
   ]
  },
  {
   "cell_type": "code",
   "execution_count": null,
   "metadata": {},
   "outputs": [],
   "source": [
    "train_data.shape\n"
   ]
  },
  {
   "cell_type": "code",
   "execution_count": null,
   "metadata": {},
   "outputs": [],
   "source": [
    "train_data_1.shape"
   ]
  },
  {
   "cell_type": "code",
   "execution_count": null,
   "metadata": {},
   "outputs": [],
   "source": [
    "print(\"The Number of Mathematics Student Data:\",len(train_data))\n",
    "print(\"The Number of Portuguese Student Data:\",len(train_data_1))\n"
   ]
  },
  {
   "cell_type": "markdown",
   "metadata": {},
   "source": [
    "#### Creating columns to represent classes for Mathematics and Portuguese classes respectively"
   ]
  },
  {
   "cell_type": "code",
   "execution_count": null,
   "metadata": {},
   "outputs": [],
   "source": [
    "train_data['subject']='mathematics'"
   ]
  },
  {
   "cell_type": "code",
   "execution_count": null,
   "metadata": {},
   "outputs": [],
   "source": [
    "train_data_1['subject']='portuguese'"
   ]
  },
  {
   "cell_type": "code",
   "execution_count": null,
   "metadata": {},
   "outputs": [],
   "source": [
    "# merge datasets\n",
    "student_df = pd.concat([train_data, train_data_1], axis = 0)"
   ]
  },
  {
   "cell_type": "markdown",
   "metadata": {},
   "source": [
    "#### saving the merge dataset"
   ]
  },
  {
   "cell_type": "code",
   "execution_count": null,
   "metadata": {},
   "outputs": [],
   "source": [
    "student_df.to_csv('/total_students.csv', index=False)"
   ]
  },
  {
   "cell_type": "code",
   "execution_count": null,
   "metadata": {},
   "outputs": [],
   "source": [
    "student_df.shape"
   ]
  },
  {
   "cell_type": "code",
   "execution_count": null,
   "metadata": {},
   "outputs": [],
   "source": [
    "student_df.dtypes"
   ]
  },
  {
   "cell_type": "code",
   "execution_count": null,
   "metadata": {},
   "outputs": [],
   "source": [
    "student_df.columns"
   ]
  },
  {
   "cell_type": "code",
   "execution_count": null,
   "metadata": {},
   "outputs": [],
   "source": [
    "# rename column labels\n",
    "student_df.columns = ['school','sex','age','address','family_size','parents_cohabitation_status','mother_education','father_education',\n",
    "           'mother_job','father_job','reason','guardian','commute_time','study_time','failures','school_support',\n",
    "          'family_support','paid_classes','activities','nursery','desire_higher_edu','internet','romantic','family_quality',\n",
    "          'free_time','go_out_with_friends','weekday_alcohol_usage','weekend_alcohol_usage','health','absences','first_period_score','second_period_score','final_score']"
   ]
  },
  {
   "cell_type": "code",
   "execution_count": null,
   "metadata": {},
   "outputs": [],
   "source": [
    "#to look at the numerical fields and their describing mathematical values.\n",
    "student_df.describe() "
   ]
  },
  {
   "cell_type": "markdown",
   "metadata": {},
   "source": [
    "#### From the info available on the data, we can tell that the quality of the data is quite decent as there aren't any columns with null values and every cell has a single piece of data. This will significanlty simplify the processing stage of the data as we would not be required to compensate for null values or split dynamic data. However, there are many categorical fields in the data set and that requires some additional processing to generate better results from."
   ]
  },
  {
   "cell_type": "code",
   "execution_count": null,
   "metadata": {},
   "outputs": [],
   "source": [
    "# look for missing values\n",
    "student_df.isnull().sum()"
   ]
  },
  {
   "cell_type": "code",
   "execution_count": null,
   "metadata": {},
   "outputs": [],
   "source": [
    "# look for the sum of missing values\n",
    "student_df.isnull().sum().sum()"
   ]
  },
  {
   "cell_type": "code",
   "execution_count": null,
   "metadata": {},
   "outputs": [],
   "source": [
    "##checking for duplicates\n",
    "student_df.duplicated().sum()"
   ]
  },
  {
   "cell_type": "code",
   "execution_count": null,
   "metadata": {},
   "outputs": [],
   "source": [
    "data = student_df.copy()"
   ]
  },
  {
   "cell_type": "code",
   "execution_count": null,
   "metadata": {},
   "outputs": [],
   "source": [
    "# data preprocessing\n",
    "\n",
    "#school\n",
    "data.loc[data['school']=='GP','school'] = 0\n",
    "data.loc[data['school']=='MS','school'] = 1\n",
    "print('school: ',student_df.school.unique(),' -> ',data.school.unique())\n",
    "\n",
    "#sex\n",
    "data.loc[data['sex']=='F','sex'] = 0\n",
    "data.loc[data['sex']=='M','sex'] = 1\n",
    "print('sex: ',student_df.sex.unique(),' -> ',data.sex.unique())\n",
    "\n",
    "#address\n",
    "data.loc[data['address']=='U','address'] = 0\n",
    "data.loc[data['address']=='R','address'] = 1\n",
    "print('address: ',student_df.address.unique(),' -> ',data.address.unique())\n",
    "\n",
    "#family size \n",
    "data.loc[data['family_size']=='LE3','family_size'] = 0\n",
    "data.loc[data['family_size']=='GT3','family_size'] = 1\n",
    "print('family_size: ',student_df.family_size.unique(),' -> ',data.family_size.unique())\n",
    "\n",
    "#parent's cohabitaiion\n",
    "data.loc[data['parents_cohabitation_status']=='A','parents_cohabitation_status'] = 0\n",
    "data.loc[data['parents_cohabitation_status']=='T','parents_cohabitation_status'] = 1\n",
    "print('parents_cohabitation_status: ',student_df.parents_cohabitation_status.unique(),' -> ',data.parents_cohabitation_status.unique())\n",
    "\n",
    "#mother's job\n",
    "data.loc[data['mother_job']=='at_home','mother_job'] = 0\n",
    "data.loc[data['mother_job']=='teacher','mother_job'] = 1\n",
    "data.loc[data['mother_job']=='health','mother_job'] = 2\n",
    "data.loc[data['mother_job']=='services','mother_job'] = 3\n",
    "data.loc[data['mother_job']=='other','mother_job'] = 4\n",
    "print('mother_job: ',student_df.mother_job.unique(),' -> ',data.mother_job.unique())\n",
    "\n",
    "#father's job\n",
    "data.loc[data['father_job']=='at_home','father_job'] = 0\n",
    "data.loc[data['father_job']=='teacher','father_job'] = 1\n",
    "data.loc[data['father_job']=='health','father_job'] = 2\n",
    "data.loc[data['father_job']=='services','father_job'] = 3\n",
    "data.loc[data['father_job']=='other','father_job'] = 4\n",
    "print('father_job: ',student_df.father_job.unique(),' -> ',data.father_job.unique())\n",
    "\n",
    "#reason\n",
    "data.loc[data['reason']=='home','reason'] = 0\n",
    "data.loc[data['reason']=='reputation','reason'] = 1\n",
    "data.loc[data['reason']=='course','reason'] = 2\n",
    "data.loc[data['reason']=='other','reason'] = 3\n",
    "print('reason: ',student_df.reason.unique(),' -> ',data.reason.unique())\n",
    "\n",
    "#guardian\n",
    "data.loc[data['guardian']=='mother','guardian'] = 0\n",
    "data.loc[data['guardian']=='father','guardian'] = 1\n",
    "data.loc[data['guardian']=='other','guardian'] = 2\n",
    "print('guardian: ',student_df.guardian.unique(),' -> ',data.guardian.unique())\n",
    "\n",
    "#school support\n",
    "data.loc[data['school_support']=='no','school_support'] = 0\n",
    "data.loc[data['school_support']=='yes','school_support'] = 1\n",
    "print('school_support: ',student_df.school_support.unique(),' -> ',data.school_support.unique())\n",
    "\n",
    "#family support\n",
    "data.loc[data['family_support']=='no','family_support'] = 0\n",
    "data.loc[data['family_support']=='yes','family_support'] = 1\n",
    "print('family_support: ',student_df.family_support.unique(),' -> ',data.family_support.unique())\n",
    "\n",
    "#paid_classes\n",
    "data.loc[data['paid_classes']=='no','paid_classes'] = 0\n",
    "data.loc[data['paid_classes']=='yes','paid_classes'] = 1\n",
    "print('paid_classes: ',student_df.paid_classes.unique(),' -> ',data.paid_classes.unique())\n",
    "\n",
    "#activities\n",
    "data.loc[data['activities']=='no','activities'] = 0\n",
    "data.loc[data['activities']=='yes','activities'] = 1\n",
    "print('activities: ',student_df.activities.unique(),' -> ',data.activities.unique())\n",
    "\n",
    "#nursery\n",
    "data.loc[data['nursery']=='no','nursery'] = 0\n",
    "data.loc[data['nursery']=='yes','nursery'] = 1\n",
    "print('nursery: ',student_df.nursery.unique(),' -> ',data.nursery.unique())\n",
    "\n",
    "#higher edu\n",
    "data.loc[data['desire_higher_edu']=='no','desire_higher_edu'] = 0\n",
    "data.loc[data['desire_higher_edu']=='yes','desire_higher_edu'] = 1\n",
    "print('desire_higher_edu: ',student_df.desire_higher_edu.unique(),' -> ',data.desire_higher_edu.unique())\n",
    "\n",
    "#internet \n",
    "data.loc[data['internet']=='no','internet'] = 0\n",
    "data.loc[data['internet']=='yes','internet'] = 1\n",
    "print('internet: ',student_df.internet.unique(),' -> ',data.internet.unique())\n",
    "\n",
    "#romantic \n",
    "data.loc[data['romantic']=='no','romantic'] = 0\n",
    "data.loc[data['romantic']=='yes','romantic'] = 1\n",
    "print('romantic: ',student_df.romantic.unique(),' -> ',data.romantic.unique())"
   ]
  },
  {
   "cell_type": "code",
   "execution_count": null,
   "metadata": {},
   "outputs": [],
   "source": [
    "student_df.sample(5)"
   ]
  },
  {
   "cell_type": "markdown",
   "metadata": {},
   "source": [
    "#### Convert the first period score, second period score and final score into grades\n"
   ]
  },
  {
   "cell_type": "markdown",
   "metadata": {},
   "source": [
    "#### Excellent:14~20 Average:7~13 Poor:0~6"
   ]
  },
  {
   "cell_type": "code",
   "execution_count": null,
   "metadata": {},
   "outputs": [],
   "source": [
    "student_df['first_period_grade'] = 'na'\n",
    "student_df.loc[(student_df.first_period_score >= 14) & (student_df.first_period_score <= 20), 'first_period_grade'] = 'excellent' \n",
    "student_df.loc[(student_df.first_period_score >= 7) & (student_df.first_period_score <= 13), 'first_period_grade'] = 'average' \n",
    "student_df.loc[(student_df.first_period_score >= 0) & (student_df.first_period_score <= 6), 'first_period_grade'] = 'poor' \n",
    "student_df.head(5)"
   ]
  },
  {
   "cell_type": "code",
   "execution_count": null,
   "metadata": {},
   "outputs": [],
   "source": [
    "student_df['second_period_grade'] = 'na'\n",
    "student_df.loc[(student_df.second_period_score >= 14) & (student_df.second_period_score <= 20), 'second_period_grade'] = 'excellent' \n",
    "student_df.loc[(student_df.second_period_score >= 7) & (student_df.second_period_score <= 13), 'second_period_grade'] = 'average' \n",
    "student_df.loc[(student_df.second_period_score >= 0) & (student_df.second_period_score <= 6), 'second_period_grade'] = 'poor' \n",
    "student_df.head(5)"
   ]
  },
  {
   "cell_type": "code",
   "execution_count": null,
   "metadata": {},
   "outputs": [],
   "source": [
    "# convert final_score to categorical variable \n",
    "# Excellent:14~20 Average:7~13 Poor:0~6\n",
    "student_df['final_grade'] = 'na'\n",
    "student_df.loc[(student_df.final_score >= 14) & (student_df.final_score <= 20), 'final_grade'] = 'excellent' \n",
    "student_df.loc[(student_df.final_score >= 7) & (student_df.final_score <= 13), 'final_grade'] = 'average' \n",
    "student_df.loc[(student_df.final_score >= 0) & (student_df.final_score <= 6), 'final_grade'] = 'poor' \n",
    "student_df.head(5)"
   ]
  },
  {
   "cell_type": "code",
   "execution_count": null,
   "metadata": {},
   "outputs": [],
   "source": [
    "student_df.head()"
   ]
  },
  {
   "cell_type": "markdown",
   "metadata": {},
   "source": [
    "#### Next up, we will take the fields (columns) one by one to analyze their importance and effect on the final score value:"
   ]
  },
  {
   "cell_type": "code",
   "execution_count": null,
   "metadata": {},
   "outputs": [],
   "source": [
    "#Plotting the distribution of the final grades.\n",
    "sns.distplot(df['final_grade']) "
   ]
  },
  {
   "cell_type": "code",
   "execution_count": null,
   "metadata": {},
   "outputs": [],
   "source": [
    "#Finding out the number of urban and rural students\n",
    "b = sns.countplot(df['address'])\n",
    "b.axes.set_title('Number of urban and rural students', fontsize = 30)\n",
    "b.set_xlabel('Address', fontsize = 20)\n",
    "b.set_ylabel('Count', fontsize = 20)\n",
    "plt.show()"
   ]
  },
  {
   "cell_type": "code",
   "execution_count": null,
   "metadata": {},
   "outputs": [],
   "source": [
    "# Grade distribution by address\n",
    "sns.kdeplot(df.loc[df['address'] == 'U', 'G3'], label='Urban', shade = True)\n",
    "sns.kdeplot(df.loc[df['address'] == 'R', 'G3'], label='Rural', shade = True)\n",
    "plt.title('Urban students performance vs rural students performance', fontsize = 20)\n",
    "plt.xlabel('Grade', fontsize = 20);\n",
    "plt.ylabel('Density', fontsize = 20)\n",
    "plt.show()"
   ]
  },
  {
   "cell_type": "markdown",
   "metadata": {},
   "source": [
    "#### Not much of a difference between urban and rural students in this particular area"
   ]
  },
  {
   "cell_type": "code",
   "execution_count": null,
   "metadata": {},
   "outputs": [],
   "source": [
    "#Distribution of students going out\n",
    "b = sns.countplot(df['goout'])\n",
    "b.axes.set_title('Frequency of students going out with friends', fontsize = 30)\n",
    "b.set_xlabel('Go out', fontsize = 20)\n",
    "b.set_ylabel('Count', fontsize = 20)\n",
    "plt.show()"
   ]
  },
  {
   "cell_type": "markdown",
   "metadata": {},
   "source": []
  },
  {
   "cell_type": "markdown",
   "metadata": {},
   "source": [
    "#### We can see that most students goes out with their friends on average"
   ]
  },
  {
   "cell_type": "markdown",
   "metadata": {},
   "source": [
    "#### Comparing the students' grades by Sex"
   ]
  },
  {
   "cell_type": "code",
   "execution_count": null,
   "metadata": {},
   "outputs": [],
   "source": [
    "perc = (lambda col: col/col.sum())\n",
    "index = ['Poor','Average','Excellent']\n",
    "sex_index = pd.crosstab(index=student_df.final_grade, columns=student_df.sex)\n",
    "sex_index = sex_index.apply(perc).reindex(index)\n",
    "sex_index.plot.bar(fontsize=16, figsize=(14,8))\n",
    "plt.title('Grade vs Sex', fontsize=20)\n",
    "plt.ylabel('Percentage of Students', fontsize=16)\n",
    "plt.xlabel('Final Grade', fontsize=16)\n",
    "plt.show()"
   ]
  },
  {
   "cell_type": "markdown",
   "metadata": {},
   "source": [
    "#### Comparing the students' grades by Address"
   ]
  },
  {
   "cell_type": "code",
   "execution_count": null,
   "metadata": {},
   "outputs": [],
   "source": [
    "perc = (lambda col: col/col.sum())\n",
    "index = ['Poor','Average','Excellent']\n",
    "address_index = pd.crosstab(index=student_df.final_grade, columns=student_df.address)\n",
    "address_index = address_index.apply(perc).reindex(index)\n",
    "address_index.plot.bar(fontsize=16, figsize=(14,8))\n",
    "plt.title('Grade vs Address', fontsize=20)\n",
    "plt.ylabel('Percentage of Students', fontsize=16)\n",
    "plt.xlabel('Final Grade', fontsize=16)\n",
    "plt.show()"
   ]
  },
  {
   "cell_type": "markdown",
   "metadata": {},
   "source": [
    "#### Comparing the students' grades by Mother's Job"
   ]
  },
  {
   "cell_type": "code",
   "execution_count": null,
   "metadata": {},
   "outputs": [],
   "source": [
    "perc = (lambda col: col/col.sum())\n",
    "index = ['Poor','Average','Excellent']\n",
    "mother_job_index = pd.crosstab(index=student_df.final_grade, columns=student_df.mother_job)\n",
    "mother_job_index = mother_job_index.apply(perc).reindex(index)\n",
    "mother_job_index.plot.bar(fontsize=16, figsize=(14,8))\n",
    "plt.title(\"Grade vs Mother's Job\", fontsize=20)\n",
    "plt.ylabel('Percentage of Students', fontsize=16)\n",
    "plt.xlabel('Final Grade', fontsize=16)\n",
    "plt.show()"
   ]
  },
  {
   "cell_type": "markdown",
   "metadata": {},
   "source": [
    "#### Comparing the students' grades by Father's Job"
   ]
  },
  {
   "cell_type": "code",
   "execution_count": null,
   "metadata": {},
   "outputs": [],
   "source": [
    "perc = (lambda col: col/col.sum())\n",
    "index = ['Poor','Average','Excellent']\n",
    "father_job_index = pd.crosstab(index=student_df.final_grade, columns=student_df.father_job)\n",
    "father_job_index = father_job_index.apply(perc).reindex(index)\n",
    "father_job_index.plot.bar(fontsize=16, figsize=(14,8))\n",
    "plt.title(\"Grade vs Father's Job\", fontsize=20)\n",
    "plt.ylabel('Percentage of Students', fontsize=16)\n",
    "plt.xlabel('Final Grade', fontsize=16)\n",
    "plt.show()"
   ]
  },
  {
   "cell_type": "markdown",
   "metadata": {},
   "source": [
    "#### Comparing the students' grades by Mother's Education"
   ]
  },
  {
   "cell_type": "code",
   "execution_count": null,
   "metadata": {},
   "outputs": [],
   "source": [
    "perc = (lambda col: col/col.sum())\n",
    "index = ['Poor','Average','Excellent']\n",
    "mother_education_index = pd.crosstab(index=student_df.final_grade, columns=student_df.mother_education)\n",
    "mother_education_index = mother_education_index.apply(perc).reindex(index)\n",
    "mother_education_index.plot.bar(fontsize=16, figsize=(14,8))\n",
    "plt.title(\"Grade vs Mother's Education\", fontsize=20)\n",
    "plt.ylabel('Percentage of Students', fontsize=16)\n",
    "plt.xlabel('Final Grade', fontsize=16)\n",
    "plt.show()"
   ]
  },
  {
   "cell_type": "markdown",
   "metadata": {},
   "source": [
    "#### Comparing the students' grades by Father's Education"
   ]
  },
  {
   "cell_type": "code",
   "execution_count": null,
   "metadata": {},
   "outputs": [],
   "source": [
    "perc = (lambda col: col/col.sum())\n",
    "index = ['Poor','Average','Excellent']\n",
    "father_education_index = pd.crosstab(index=student_df.final_grade, columns=student_df.father_education)\n",
    "father_education_index = father_education_index.apply(perc).reindex(index)\n",
    "father_education_index.plot.bar(fontsize=16, figsize=(14,8))\n",
    "plt.title(\"Grade vs Father's Education\", fontsize=20)\n",
    "plt.ylabel('Percentage of Students', fontsize=16)\n",
    "plt.xlabel('Final Grade', fontsize=16)\n",
    "plt.show()"
   ]
  },
  {
   "cell_type": "markdown",
   "metadata": {},
   "source": [
    "#### Comparing the students' grades by Desire higher Education"
   ]
  },
  {
   "cell_type": "code",
   "execution_count": null,
   "metadata": {},
   "outputs": [],
   "source": [
    "perc = (lambda col: col/col.sum())\n",
    "index = ['Poor','Average','Excellent']\n",
    "desire_higher_edu_index = pd.crosstab(index=student_df.final_grade, columns=student_df.desire_higher_edu)\n",
    "desire_higher_edu_index = desire_higher_edu_index.apply(perc).reindex(index)\n",
    "desire_higher_edu_index.plot.bar(fontsize=16, figsize=(14,8))\n",
    "plt.title(\"Grade vs Desire Higher Education\", fontsize=20)\n",
    "plt.ylabel('Percentage of Students', fontsize=16)\n",
    "plt.xlabel('Final Grade', fontsize=16)\n",
    "plt.show()"
   ]
  },
  {
   "cell_type": "markdown",
   "metadata": {},
   "source": [
    "#### Comparing the students' grades by Study time"
   ]
  },
  {
   "cell_type": "code",
   "execution_count": null,
   "metadata": {},
   "outputs": [],
   "source": [
    "perc = (lambda col: col/col.sum())\n",
    "index = ['Poor','Average','Excellent']\n",
    "study_time_index = pd.crosstab(index=student_df.final_grade, columns=student_df.study_time)\n",
    "study_time_index = study_time_index.apply(perc).reindex(index)\n",
    "study_time_index.plot.bar(fontsize=16, figsize=(14,8))\n",
    "plt.title('Grade vs Study Time', fontsize=20)\n",
    "plt.ylabel('Percentage of Students', fontsize=16)\n",
    "plt.xlabel('Final Grade', fontsize=16)\n",
    "plt.show()"
   ]
  },
  {
   "cell_type": "markdown",
   "metadata": {},
   "source": [
    "#### Comparing the students' grades by Internet Access"
   ]
  },
  {
   "cell_type": "code",
   "execution_count": null,
   "metadata": {},
   "outputs": [],
   "source": [
    "perc = (lambda col: col/col.sum())\n",
    "index = ['Poor','Average','Excellent']\n",
    "internet_index = pd.crosstab(index=student_df.final_grade, columns=student_df.internet)\n",
    "internet_index = internet_index.apply(perc).reindex(index)\n",
    "internet_index.plot.bar(fontsize=16, figsize=(14,8))\n",
    "plt.title('Grade vs Internet Access', fontsize=20)\n",
    "plt.ylabel('Percentage of Students', fontsize=16)\n",
    "plt.xlabel('Final Grade', fontsize=16)\n",
    "plt.show()"
   ]
  },
  {
   "cell_type": "markdown",
   "metadata": {},
   "source": [
    "#### Comparing the students' grades by relationship status"
   ]
  },
  {
   "cell_type": "code",
   "execution_count": null,
   "metadata": {},
   "outputs": [],
   "source": [
    "perc = (lambda col: col/col.sum())\n",
    "index = ['Poor','Average','Excellent']\n",
    "relationship_index = pd.crosstab(index=student_df.final_grade, columns=student_df.romantic)\n",
    "romantic_index = relationship_index.apply(perc).reindex(index)\n",
    "romantic_index.plot.bar(fontsize=16, figsize=(14,8))\n",
    "plt.title('Grade vs Relationship Status', fontsize=20)\n",
    "plt.ylabel('Percentage of Students', fontsize=16)\n",
    "plt.xlabel('Final Grade', fontsize=16)\n",
    "plt.show()"
   ]
  },
  {
   "cell_type": "markdown",
   "metadata": {},
   "source": [
    "#### Comparing the students' grades by Family support status"
   ]
  },
  {
   "cell_type": "code",
   "execution_count": null,
   "metadata": {},
   "outputs": [],
   "source": [
    "perc = (lambda col: col/col.sum())\n",
    "index = ['Poor','Average','Excellent']\n",
    "family_support_index = pd.crosstab(index=student_df.final_grade, columns=student_df.family_support)\n",
    "family_support_index = family_support_index.apply(perc).reindex(index)\n",
    "family_support_index.plot.bar(fontsize=16, figsize=(14,8))\n",
    "plt.title('Grade vs Family Support Status', fontsize=20)\n",
    "plt.ylabel('Percentage of Students', fontsize=16)\n",
    "plt.xlabel('Final Grade', fontsize=16)\n",
    "plt.show()"
   ]
  },
  {
   "cell_type": "markdown",
   "metadata": {},
   "source": [
    "#### Comparing the students' grades by Parent cohabiting Status"
   ]
  },
  {
   "cell_type": "code",
   "execution_count": null,
   "metadata": {},
   "outputs": [],
   "source": [
    "perc = (lambda col: col/col.sum())\n",
    "index = ['Poor','Average','Excellent']\n",
    "parents_cohabitation_status_index = pd.crosstab(index=student_df.final_grade, columns=student_df.parents_cohabitation_status)\n",
    "parents_cohabitation_status_index = parents_cohabitation_status_index.apply(perc).reindex(index)\n",
    "parents_cohabitation_status_index.plot.bar(fontsize=16, figsize=(14,8))\n",
    "plt.title('Grade vs Parents Cohabitation Status', fontsize=20)\n",
    "plt.ylabel('Percentage of Students', fontsize=16)\n",
    "plt.xlabel('Final Grade', fontsize=16)\n",
    "plt.show()"
   ]
  },
  {
   "cell_type": "markdown",
   "metadata": {},
   "source": [
    "#### Comparing the students' grades by Age"
   ]
  },
  {
   "cell_type": "code",
   "execution_count": null,
   "metadata": {},
   "outputs": [],
   "source": [
    "perc = (lambda col: col/col.sum())\n",
    "index = ['Poor','Average','Excellent']\n",
    "age_index = pd.crosstab(index=student_df.final_grade, columns=student_df.age)\n",
    "age_index = age_index.apply(perc).reindex(index)\n",
    "age_index.plot.bar(fontsize=16, figsize=(14,8))\n",
    "plt.title('Grade vs Age', fontsize=20)\n",
    "plt.ylabel('Percentage of Students', fontsize=16)\n",
    "plt.xlabel('Final Grade', fontsize=16)\n",
    "plt.show()"
   ]
  },
  {
   "cell_type": "markdown",
   "metadata": {},
   "source": [
    "#### Comparing the students' grades by Failures"
   ]
  },
  {
   "cell_type": "code",
   "execution_count": null,
   "metadata": {},
   "outputs": [],
   "source": [
    "perc = (lambda col: col/col.sum())\n",
    "index = ['Poor','Average','Excellent']\n",
    "failures_index = pd.crosstab(index=student_df.final_grade, columns=student_df.failures)\n",
    "failures_index = failures_index.apply(perc).reindex(index)\n",
    "failures_index.plot.bar(fontsize=16, figsize=(14,8))\n",
    "plt.title('Grade vs Failures', fontsize=20)\n",
    "plt.ylabel('Percentage of Students', fontsize=16)\n",
    "plt.xlabel('Final Grade', fontsize=16)\n",
    "plt.show()"
   ]
  },
  {
   "cell_type": "markdown",
   "metadata": {},
   "source": [
    "#### Comparing the students' grades by Free Time"
   ]
  },
  {
   "cell_type": "code",
   "execution_count": null,
   "metadata": {},
   "outputs": [],
   "source": [
    "perc = (lambda col: col/col.sum())\n",
    "index = ['Poor','Average','Excellent']\n",
    "free_time_index = pd.crosstab(index=student_df.final_grade, columns=student_df.free_time)\n",
    "free_time_index = free_time_index.apply(perc).reindex(index)\n",
    "free_time_index.plot.bar(fontsize=16, figsize=(14,8))\n",
    "plt.title('Grade vs Free Time', fontsize=20)\n",
    "plt.ylabel('Percentage of Students', fontsize=16)\n",
    "plt.xlabel('Final Grade', fontsize=16)\n",
    "plt.show()"
   ]
  },
  {
   "cell_type": "markdown",
   "metadata": {},
   "source": [
    "#### Comparing the students' grades by Weekday alcohol consumption"
   ]
  },
  {
   "cell_type": "code",
   "execution_count": null,
   "metadata": {},
   "outputs": [],
   "source": [
    "perc = (lambda col: col/col.sum())\n",
    "index = ['Poor','Average','Excellent']\n",
    "weekday_alcohol_usage_index = pd.crosstab(index=student_df.final_grade, columns=student_df.weekday_alcohol_usage)\n",
    "weekday_alcohol_usage_index = weekday_alcohol_usage_index.apply(perc).reindex(index)\n",
    "weekday_alcohol_usage_index.plot.bar(fontsize=16, figsize=(14,8))\n",
    "plt.title('Grade vs Weekday Alcohol Usage', fontsize=20)\n",
    "plt.ylabel('Percentage of Students', fontsize=16)\n",
    "plt.xlabel('Final Grade', fontsize=16)\n",
    "plt.show()"
   ]
  },
  {
   "cell_type": "markdown",
   "metadata": {},
   "source": [
    "#### Comparing the students' grades by Weekend alcohol consumption"
   ]
  },
  {
   "cell_type": "code",
   "execution_count": null,
   "metadata": {},
   "outputs": [],
   "source": [
    "perc = (lambda col: col/col.sum())\n",
    "index = ['Poor','Average','Excellent']\n",
    "weekend_alcohol_usage_index = pd.crosstab(index=student_df.final_grade, columns=student_df.weekend_alcohol_usage)\n",
    "weekend_alcohol_usage_index = weekend_alcohol_usage_index.apply(perc).reindex(index)\n",
    "weekend_alcohol_usage_index.plot.bar(fontsize=16, figsize=(14,8))\n",
    "plt.title('Grade vs Weekend Alcohol Usage', fontsize=20)\n",
    "plt.ylabel('Percentage of Students', fontsize=16)\n",
    "plt.xlabel('Final Grade', fontsize=16)\n",
    "plt.show()"
   ]
  },
  {
   "cell_type": "markdown",
   "metadata": {},
   "source": [
    "#### Comparing the students' grades by health"
   ]
  },
  {
   "cell_type": "code",
   "execution_count": null,
   "metadata": {},
   "outputs": [],
   "source": [
    "perc = (lambda col: col/col.sum())\n",
    "index = ['Poor','Average','Excellent']\n",
    "health_index = pd.crosstab(index=student_df.final_grade, columns=student_df.health)\n",
    "health_index = health_index.apply(perc).reindex(index)\n",
    "health_index.plot.bar(fontsize=16, figsize=(14,8))\n",
    "plt.title('Grade vs Health', fontsize=20)\n",
    "plt.ylabel('Percentage of Students', fontsize=16)\n",
    "plt.xlabel('Final Grade', fontsize=16)\n",
    "plt.show()"
   ]
  },
  {
   "cell_type": "markdown",
   "metadata": {},
   "source": [
    "#### Comparing the students' grades by Going out with friends"
   ]
  },
  {
   "cell_type": "code",
   "execution_count": null,
   "metadata": {},
   "outputs": [],
   "source": [
    "perc = (lambda col: col/col.sum())\n",
    "index = ['Poor','Average','Excellent']\n",
    "go_out_with_friends_index = pd.crosstab(index=student_df.final_grade, columns=student_df.go_out_with_friends)\n",
    "go_out_with_friends_index = go_out_with_friends_index.apply(perc).reindex(index)\n",
    "go_out_with_friends_index.plot.bar(fontsize=16, figsize=(14,8))\n",
    "plt.title('Grade vs Frequency of Going Out With Friends', fontsize=20)\n",
    "plt.ylabel('Percentage of Students', fontsize=16)\n",
    "plt.xlabel('Final Grade', fontsize=16)\n",
    "plt.show()"
   ]
  },
  {
   "cell_type": "markdown",
   "metadata": {},
   "source": [
    "#### Gender Distribution"
   ]
  },
  {
   "cell_type": "code",
   "execution_count": null,
   "metadata": {},
   "outputs": [],
   "source": [
    "student_df['sex'].unique()"
   ]
  },
  {
   "cell_type": "code",
   "execution_count": null,
   "metadata": {},
   "outputs": [],
   "source": [
    "f, ax = plt.subplots()\n",
    "figure = sns.countplot(x = 'sex', data=student_df, order=['M','F'])\n",
    "ax = ax.set(ylabel=\"Count\", xlabel=\"gender\")\n",
    "figure.grid(False)\n",
    "plt.title('Gender Distribution')"
   ]
  },
  {
   "cell_type": "markdown",
   "metadata": {},
   "source": [
    "#### School Distribution"
   ]
  },
  {
   "cell_type": "code",
   "execution_count": null,
   "metadata": {},
   "outputs": [],
   "source": [
    "student_df['school'].unique()"
   ]
  },
  {
   "cell_type": "code",
   "execution_count": null,
   "metadata": {},
   "outputs": [],
   "source": [
    "f, ax = plt.subplots()\n",
    "figure = sns.countplot(x = 'school', data=student_df, order=['GP','MS'])\n",
    "ax = ax.set(ylabel=\"Count\", xlabel=\"school\")\n",
    "figure.grid(False)\n",
    "plt.title('School Distribution')"
   ]
  },
  {
   "cell_type": "markdown",
   "metadata": {},
   "source": [
    "#### Address Distribution"
   ]
  },
  {
   "cell_type": "code",
   "execution_count": null,
   "metadata": {},
   "outputs": [],
   "source": [
    "student_df['address'].unique()"
   ]
  },
  {
   "cell_type": "code",
   "execution_count": null,
   "metadata": {},
   "outputs": [],
   "source": [
    "f, ax = plt.subplots()\n",
    "figure = sns.countplot(x = 'address', data=student_df, order=['U','R'])\n",
    "ax = ax.set(ylabel=\"Count\", xlabel=\"address\")\n",
    "figure.grid(False)\n",
    "plt.title('Address Distribution')"
   ]
  },
  {
   "cell_type": "markdown",
   "metadata": {},
   "source": [
    "#### Age Distribution"
   ]
  },
  {
   "cell_type": "code",
   "execution_count": null,
   "metadata": {},
   "outputs": [],
   "source": [
    "student_df['age'].unique()"
   ]
  },
  {
   "cell_type": "code",
   "execution_count": null,
   "metadata": {},
   "outputs": [],
   "source": [
    "f, ax = plt.subplots()\n",
    "figure = sns.countplot(x = 'age', data=student_df, order=[15,16,17,18,19,20,21,22])\n",
    "ax = ax.set(ylabel=\"Count\", xlabel=\"age\")\n",
    "figure.grid(False)\n",
    "plt.title('Age Distribution')"
   ]
  },
  {
   "cell_type": "markdown",
   "metadata": {},
   "source": [
    "#### Family Distribution"
   ]
  },
  {
   "cell_type": "code",
   "execution_count": null,
   "metadata": {},
   "outputs": [],
   "source": [
    "student_df['family_size'].unique()"
   ]
  },
  {
   "cell_type": "code",
   "execution_count": null,
   "metadata": {},
   "outputs": [],
   "source": [
    "f, ax = plt.subplots()\n",
    "figure = sns.countplot(x = 'family_size', data=student_df, order=['GT3','LE3'])\n",
    "ax = ax.set(ylabel=\"Count\", xlabel=\"family_size\")\n",
    "figure.grid(False)\n",
    "plt.title('Family Size Distribution')"
   ]
  },
  {
   "cell_type": "markdown",
   "metadata": {},
   "source": [
    "#### From this we can tell that the distribution of the grades is decent and doesn't require any further skewness correction yet. We can go with this distribution for now to analyze the data and create a primitive model and it's error rate first. We can look into data processing of the final grade field afterwards if the results aren't satisfactory."
   ]
  },
  {
   "cell_type": "code",
   "execution_count": null,
   "metadata": {},
   "outputs": [],
   "source": [
    "# only works on numerical variables\n",
    "corr = df.corr() \n",
    "sns.heatmap(corr)"
   ]
  },
  {
   "cell_type": "code",
   "execution_count": null,
   "metadata": {},
   "outputs": [],
   "source": [
    "print (corr['final_score'].sort_values(ascending = False), '\\n')"
   ]
  },
  {
   "cell_type": "markdown",
   "metadata": {},
   "source": [
    "#### From the correlation graph above, we can look at the numerical fields to know the values that affect the end result the most. Obviously period_1_score and period_2_score are the most correlated fields to final score as they are part of the calculation formula for final score so they will have the greatest effect on our prediction. Another thing we can see is the negative correlation between failures and the final score result. This also makes quite a lot of sense as more failures tend to negatively affect your end score. Absences and free time seem to not be very relevant in the dataset that are analyzing which can be a flag that may help us further understand the data in the future."
   ]
  },
  {
   "cell_type": "markdown",
   "metadata": {},
   "source": [
    "#### Now that we have analyzed the numerical data slightly and figured out the most correlated fields, we now have to take a look at the categorical data to figure out how useful the fields may be and how to introduce them into the prediction model. The simplest way to analyze those fields is to compare the means accross the categories."
   ]
  },
  {
   "cell_type": "code",
   "execution_count": null,
   "metadata": {},
   "outputs": [],
   "source": [
    "groupColumns = ['school', 'sex', 'address', 'famsize', 'Pstatus', 'Mjob', 'Fjob', 'reason', 'guardian', 'schoolsup', 'famsup'\n",
    "               , 'paid', 'activities', 'nursery', 'higher', 'internet', 'romantic']\n",
    "\n",
    "avgColumns = ['G3', 'G2', 'G1']"
   ]
  },
  {
   "cell_type": "code",
   "execution_count": null,
   "metadata": {},
   "outputs": [],
   "source": [
    "school = data.groupby(groupColumns[0])[avgColumns].mean()\n",
    "school.head()"
   ]
  },
  {
   "cell_type": "markdown",
   "metadata": {},
   "source": [
    "#### From this, we see that Gabriel Pereira students generally do better than Mousinho da Silveira students. The same analysis can be done for a few more fields:"
   ]
  },
  {
   "cell_type": "code",
   "execution_count": null,
   "metadata": {},
   "outputs": [],
   "source": [
    "sex = data.groupby(groupColumns[1])[avgColumns].mean()\n",
    "sex.head()"
   ]
  },
  {
   "cell_type": "markdown",
   "metadata": {},
   "source": [
    "#### Correlation between Attributes\n",
    "##### The heatmap shows the correlation between different attributes. We can use it to find which attributes are highle correlated with the target label and select them whereas we can also drop the features that are highly correlated to other features"
   ]
  },
  {
   "cell_type": "code",
   "execution_count": null,
   "metadata": {},
   "outputs": [],
   "source": [
    "fig, ax = plt.subplots(nrows=1,ncols=1,figsize=(15,12))\n",
    "\n",
    "ax = sns.heatmap(data=df.corr(), ax=ax, cmap=\"Blues\")\n",
    "ax.set_xlabel('Features',fontdict={\"fontsize\":16})\n",
    "ax.set_ylabel('Features',fontdict={\"fontsize\":16})\n",
    "ax.set_title('Correlation between different Features', loc=\"center\", fontdict={\"fontsize\": 16, \"fontweight\":\"bold\"})\n",
    "\n",
    "plt.savefig(\"heatmap.png\", bbox_inches=\"tight\")\n",
    "plt.show()"
   ]
  },
  {
   "cell_type": "markdown",
   "metadata": {},
   "source": [
    "##### From the above heatmap, columns G1, G2 and G3 are highly correlated to each other. The below plots show this correlation."
   ]
  },
  {
   "cell_type": "code",
   "execution_count": null,
   "metadata": {},
   "outputs": [],
   "source": [
    "pairplot = sns.pairplot(dataset[[\"G1\", \"G2\", \"G3\"]], palette=\"viridis\")\n",
    "\n",
    "plt.savefig(\"pairplot.png\", bbox_inches=\"tight\")\n",
    "plt.show()"
   ]
  },
  {
   "cell_type": "code",
   "execution_count": null,
   "metadata": {},
   "outputs": [],
   "source": [
    "fig, ax = plt.subplots(nrows=1, ncols=2, figsize=(15,8))\n",
    "\n",
    "ax[0] = sns.lineplot(x=\"G1\", y=\"G3\", data=dataset, palette=\"viridis\", ax=ax[0])\n",
    "ax[0].set_xlabel('G1',fontdict={\"fontsize\":16})\n",
    "ax[0].set_ylabel('G3',fontdict={\"fontsize\":16})\n",
    "ax[0].set_title('G3 vs G1', loc=\"center\", fontdict={\"fontsize\": 16, \"fontweight\":\"bold\"})\n",
    "\n",
    "ax[1] = sns.lineplot(x=\"G2\", y=\"G3\", data=dataset, palette=\"viridis\", ax=ax[1])\n",
    "ax[1].set_xlabel('G2',fontdict={\"fontsize\":16})\n",
    "ax[1].set_ylabel('G3',fontdict={\"fontsize\":16})\n",
    "ax[1].set_title('G3 vs G2', loc=\"center\", fontdict={\"fontsize\": 16, \"fontweight\":\"bold\"})\n",
    "\n",
    "plt.savefig(\"lineplot.png\", bbox_inches=\"tight\")\n",
    "plt.show()"
   ]
  },
  {
   "cell_type": "markdown",
   "metadata": {},
   "source": [
    "### analysing 'finale grade'"
   ]
  },
  {
   "cell_type": "code",
   "execution_count": null,
   "metadata": {},
   "outputs": [],
   "source": [
    "#describe \"final grade\"\n",
    "df_train['G3'].describe()"
   ]
  },
  {
   "cell_type": "code",
   "execution_count": null,
   "metadata": {},
   "outputs": [],
   "source": [
    "#Distribution of Final grade of students\n",
    "demo= sns.countplot(df_train['G3'])\n",
    "demo.axes.set_title('Distribution of Final grade of students', fontsize = 35)\n",
    "demo.set_xlabel('Final Grade', fontsize = 20)\n",
    "demo.set_ylabel('Count', fontsize = 20)\n",
    "plt.show()"
   ]
  },
  {
   "cell_type": "markdown",
   "metadata": {},
   "source": [
    "### Apart from the high number of students scoring 0, the distribution is normal as expected.Maybe the value 0 is used in place of null. Or maybe the students who did not appear for the exam, or were not allowed to sit for the exam due to some reason are marked as 0. We cannot be sure"
   ]
  },
  {
   "cell_type": "code",
   "execution_count": null,
   "metadata": {},
   "outputs": [],
   "source": [
    "#Serialized representation\n",
    "import pickle\n",
    "model = 'LinearRegressionModel.sav'\n",
    "pickle.dump(regressor, open(model, 'wb'))"
   ]
  }
 ],
 "metadata": {
  "interpreter": {
   "hash": "b3ba2566441a7c06988d0923437866b63cedc61552a5af99d1f4fb67d367b25f"
  },
  "kernelspec": {
   "display_name": "Python 3.8.8 64-bit ('base': conda)",
   "name": "python3"
  },
  "language_info": {
   "codemirror_mode": {
    "name": "ipython",
    "version": 3
   },
   "file_extension": ".py",
   "mimetype": "text/x-python",
   "name": "python",
   "nbconvert_exporter": "python",
   "pygments_lexer": "ipython3",
   "version": "3.8.8"
  },
  "orig_nbformat": 4
 },
 "nbformat": 4,
 "nbformat_minor": 2
}
