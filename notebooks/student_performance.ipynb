{
 "cells": [
  {
   "cell_type": "code",
   "execution_count": 1,
   "metadata": {},
   "outputs": [],
   "source": [
    "import pandas as pd\n",
    "import numpy as np\n",
    "import seaborn as sns\n",
    "import matplotlib.pyplot as plt\n",
    "import datetime \n",
    "%matplotlib inline\n",
    "from sklearn import preprocessing\n",
    "import warnings\n",
    "warnings.filterwarnings(action = 'ignore')"
   ]
  },
  {
   "cell_type": "markdown",
   "metadata": {},
   "source": [
    "### Dataset\n",
    "This project analyses students' achievements in secondary education of two Portuguese schools. The attributes of the dataset include student grades, demographic, social and school-related features) and it was collected by using school reports and questionnaires. Two datasets are provided regarding the performance in two distinct subjects: Mathematics (mat) and Portuguese language (por).\n",
    "\n",
    "I classified the students into three categories, \"excellent\", \"average\", and \"poor\", according to their final exam performance. Then I analyzed a few features that have significant influence on students' final performance, including using the internet as a learning resource,Romantic Status, Alcohol Consumption, Parents Education Level, etc. Finally, using available predictive features, I have tried various machine learning models to predict students' final performance classification and have compared models performance based on ROC index.\n",
    "\n",
    "Dataset available at: http://archive.ics.uci.edu/ml/datasets/Student+Performance#"
   ]
  },
  {
   "cell_type": "code",
   "execution_count": 2,
   "metadata": {},
   "outputs": [],
   "source": [
    "train_data = pd.read_csv('../data/student-mat.csv', sep=\";\")\n",
    "train_data_1 = pd.read_csv('../data/student-por.csv', sep=\";\")"
   ]
  },
  {
   "cell_type": "code",
   "execution_count": 3,
   "metadata": {},
   "outputs": [
    {
     "data": {
      "text/html": [
       "<div>\n",
       "<style scoped>\n",
       "    .dataframe tbody tr th:only-of-type {\n",
       "        vertical-align: middle;\n",
       "    }\n",
       "\n",
       "    .dataframe tbody tr th {\n",
       "        vertical-align: top;\n",
       "    }\n",
       "\n",
       "    .dataframe thead th {\n",
       "        text-align: right;\n",
       "    }\n",
       "</style>\n",
       "<table border=\"1\" class=\"dataframe\">\n",
       "  <thead>\n",
       "    <tr style=\"text-align: right;\">\n",
       "      <th></th>\n",
       "      <th>school</th>\n",
       "      <th>sex</th>\n",
       "      <th>age</th>\n",
       "      <th>address</th>\n",
       "      <th>famsize</th>\n",
       "      <th>Pstatus</th>\n",
       "      <th>Medu</th>\n",
       "      <th>Fedu</th>\n",
       "      <th>Mjob</th>\n",
       "      <th>Fjob</th>\n",
       "      <th>...</th>\n",
       "      <th>famrel</th>\n",
       "      <th>freetime</th>\n",
       "      <th>goout</th>\n",
       "      <th>Dalc</th>\n",
       "      <th>Walc</th>\n",
       "      <th>health</th>\n",
       "      <th>absences</th>\n",
       "      <th>G1</th>\n",
       "      <th>G2</th>\n",
       "      <th>G3</th>\n",
       "    </tr>\n",
       "  </thead>\n",
       "  <tbody>\n",
       "    <tr>\n",
       "      <th>0</th>\n",
       "      <td>GP</td>\n",
       "      <td>F</td>\n",
       "      <td>18</td>\n",
       "      <td>U</td>\n",
       "      <td>GT3</td>\n",
       "      <td>A</td>\n",
       "      <td>4</td>\n",
       "      <td>4</td>\n",
       "      <td>at_home</td>\n",
       "      <td>teacher</td>\n",
       "      <td>...</td>\n",
       "      <td>4</td>\n",
       "      <td>3</td>\n",
       "      <td>4</td>\n",
       "      <td>1</td>\n",
       "      <td>1</td>\n",
       "      <td>3</td>\n",
       "      <td>6</td>\n",
       "      <td>5</td>\n",
       "      <td>6</td>\n",
       "      <td>6</td>\n",
       "    </tr>\n",
       "    <tr>\n",
       "      <th>1</th>\n",
       "      <td>GP</td>\n",
       "      <td>F</td>\n",
       "      <td>17</td>\n",
       "      <td>U</td>\n",
       "      <td>GT3</td>\n",
       "      <td>T</td>\n",
       "      <td>1</td>\n",
       "      <td>1</td>\n",
       "      <td>at_home</td>\n",
       "      <td>other</td>\n",
       "      <td>...</td>\n",
       "      <td>5</td>\n",
       "      <td>3</td>\n",
       "      <td>3</td>\n",
       "      <td>1</td>\n",
       "      <td>1</td>\n",
       "      <td>3</td>\n",
       "      <td>4</td>\n",
       "      <td>5</td>\n",
       "      <td>5</td>\n",
       "      <td>6</td>\n",
       "    </tr>\n",
       "    <tr>\n",
       "      <th>2</th>\n",
       "      <td>GP</td>\n",
       "      <td>F</td>\n",
       "      <td>15</td>\n",
       "      <td>U</td>\n",
       "      <td>LE3</td>\n",
       "      <td>T</td>\n",
       "      <td>1</td>\n",
       "      <td>1</td>\n",
       "      <td>at_home</td>\n",
       "      <td>other</td>\n",
       "      <td>...</td>\n",
       "      <td>4</td>\n",
       "      <td>3</td>\n",
       "      <td>2</td>\n",
       "      <td>2</td>\n",
       "      <td>3</td>\n",
       "      <td>3</td>\n",
       "      <td>10</td>\n",
       "      <td>7</td>\n",
       "      <td>8</td>\n",
       "      <td>10</td>\n",
       "    </tr>\n",
       "    <tr>\n",
       "      <th>3</th>\n",
       "      <td>GP</td>\n",
       "      <td>F</td>\n",
       "      <td>15</td>\n",
       "      <td>U</td>\n",
       "      <td>GT3</td>\n",
       "      <td>T</td>\n",
       "      <td>4</td>\n",
       "      <td>2</td>\n",
       "      <td>health</td>\n",
       "      <td>services</td>\n",
       "      <td>...</td>\n",
       "      <td>3</td>\n",
       "      <td>2</td>\n",
       "      <td>2</td>\n",
       "      <td>1</td>\n",
       "      <td>1</td>\n",
       "      <td>5</td>\n",
       "      <td>2</td>\n",
       "      <td>15</td>\n",
       "      <td>14</td>\n",
       "      <td>15</td>\n",
       "    </tr>\n",
       "    <tr>\n",
       "      <th>4</th>\n",
       "      <td>GP</td>\n",
       "      <td>F</td>\n",
       "      <td>16</td>\n",
       "      <td>U</td>\n",
       "      <td>GT3</td>\n",
       "      <td>T</td>\n",
       "      <td>3</td>\n",
       "      <td>3</td>\n",
       "      <td>other</td>\n",
       "      <td>other</td>\n",
       "      <td>...</td>\n",
       "      <td>4</td>\n",
       "      <td>3</td>\n",
       "      <td>2</td>\n",
       "      <td>1</td>\n",
       "      <td>2</td>\n",
       "      <td>5</td>\n",
       "      <td>4</td>\n",
       "      <td>6</td>\n",
       "      <td>10</td>\n",
       "      <td>10</td>\n",
       "    </tr>\n",
       "  </tbody>\n",
       "</table>\n",
       "<p>5 rows × 33 columns</p>\n",
       "</div>"
      ],
      "text/plain": [
       "  school sex  age address famsize Pstatus  Medu  Fedu     Mjob      Fjob  ...  \\\n",
       "0     GP   F   18       U     GT3       A     4     4  at_home   teacher  ...   \n",
       "1     GP   F   17       U     GT3       T     1     1  at_home     other  ...   \n",
       "2     GP   F   15       U     LE3       T     1     1  at_home     other  ...   \n",
       "3     GP   F   15       U     GT3       T     4     2   health  services  ...   \n",
       "4     GP   F   16       U     GT3       T     3     3    other     other  ...   \n",
       "\n",
       "  famrel freetime  goout  Dalc  Walc health absences  G1  G2  G3  \n",
       "0      4        3      4     1     1      3        6   5   6   6  \n",
       "1      5        3      3     1     1      3        4   5   5   6  \n",
       "2      4        3      2     2     3      3       10   7   8  10  \n",
       "3      3        2      2     1     1      5        2  15  14  15  \n",
       "4      4        3      2     1     2      5        4   6  10  10  \n",
       "\n",
       "[5 rows x 33 columns]"
      ]
     },
     "execution_count": 3,
     "metadata": {},
     "output_type": "execute_result"
    }
   ],
   "source": [
    "train_data.head()"
   ]
  },
  {
   "cell_type": "code",
   "execution_count": 4,
   "metadata": {},
   "outputs": [
    {
     "data": {
      "text/html": [
       "<div>\n",
       "<style scoped>\n",
       "    .dataframe tbody tr th:only-of-type {\n",
       "        vertical-align: middle;\n",
       "    }\n",
       "\n",
       "    .dataframe tbody tr th {\n",
       "        vertical-align: top;\n",
       "    }\n",
       "\n",
       "    .dataframe thead th {\n",
       "        text-align: right;\n",
       "    }\n",
       "</style>\n",
       "<table border=\"1\" class=\"dataframe\">\n",
       "  <thead>\n",
       "    <tr style=\"text-align: right;\">\n",
       "      <th></th>\n",
       "      <th>school</th>\n",
       "      <th>sex</th>\n",
       "      <th>age</th>\n",
       "      <th>address</th>\n",
       "      <th>famsize</th>\n",
       "      <th>Pstatus</th>\n",
       "      <th>Medu</th>\n",
       "      <th>Fedu</th>\n",
       "      <th>Mjob</th>\n",
       "      <th>Fjob</th>\n",
       "      <th>...</th>\n",
       "      <th>famrel</th>\n",
       "      <th>freetime</th>\n",
       "      <th>goout</th>\n",
       "      <th>Dalc</th>\n",
       "      <th>Walc</th>\n",
       "      <th>health</th>\n",
       "      <th>absences</th>\n",
       "      <th>G1</th>\n",
       "      <th>G2</th>\n",
       "      <th>G3</th>\n",
       "    </tr>\n",
       "  </thead>\n",
       "  <tbody>\n",
       "    <tr>\n",
       "      <th>0</th>\n",
       "      <td>GP</td>\n",
       "      <td>F</td>\n",
       "      <td>18</td>\n",
       "      <td>U</td>\n",
       "      <td>GT3</td>\n",
       "      <td>A</td>\n",
       "      <td>4</td>\n",
       "      <td>4</td>\n",
       "      <td>at_home</td>\n",
       "      <td>teacher</td>\n",
       "      <td>...</td>\n",
       "      <td>4</td>\n",
       "      <td>3</td>\n",
       "      <td>4</td>\n",
       "      <td>1</td>\n",
       "      <td>1</td>\n",
       "      <td>3</td>\n",
       "      <td>4</td>\n",
       "      <td>0</td>\n",
       "      <td>11</td>\n",
       "      <td>11</td>\n",
       "    </tr>\n",
       "    <tr>\n",
       "      <th>1</th>\n",
       "      <td>GP</td>\n",
       "      <td>F</td>\n",
       "      <td>17</td>\n",
       "      <td>U</td>\n",
       "      <td>GT3</td>\n",
       "      <td>T</td>\n",
       "      <td>1</td>\n",
       "      <td>1</td>\n",
       "      <td>at_home</td>\n",
       "      <td>other</td>\n",
       "      <td>...</td>\n",
       "      <td>5</td>\n",
       "      <td>3</td>\n",
       "      <td>3</td>\n",
       "      <td>1</td>\n",
       "      <td>1</td>\n",
       "      <td>3</td>\n",
       "      <td>2</td>\n",
       "      <td>9</td>\n",
       "      <td>11</td>\n",
       "      <td>11</td>\n",
       "    </tr>\n",
       "    <tr>\n",
       "      <th>2</th>\n",
       "      <td>GP</td>\n",
       "      <td>F</td>\n",
       "      <td>15</td>\n",
       "      <td>U</td>\n",
       "      <td>LE3</td>\n",
       "      <td>T</td>\n",
       "      <td>1</td>\n",
       "      <td>1</td>\n",
       "      <td>at_home</td>\n",
       "      <td>other</td>\n",
       "      <td>...</td>\n",
       "      <td>4</td>\n",
       "      <td>3</td>\n",
       "      <td>2</td>\n",
       "      <td>2</td>\n",
       "      <td>3</td>\n",
       "      <td>3</td>\n",
       "      <td>6</td>\n",
       "      <td>12</td>\n",
       "      <td>13</td>\n",
       "      <td>12</td>\n",
       "    </tr>\n",
       "    <tr>\n",
       "      <th>3</th>\n",
       "      <td>GP</td>\n",
       "      <td>F</td>\n",
       "      <td>15</td>\n",
       "      <td>U</td>\n",
       "      <td>GT3</td>\n",
       "      <td>T</td>\n",
       "      <td>4</td>\n",
       "      <td>2</td>\n",
       "      <td>health</td>\n",
       "      <td>services</td>\n",
       "      <td>...</td>\n",
       "      <td>3</td>\n",
       "      <td>2</td>\n",
       "      <td>2</td>\n",
       "      <td>1</td>\n",
       "      <td>1</td>\n",
       "      <td>5</td>\n",
       "      <td>0</td>\n",
       "      <td>14</td>\n",
       "      <td>14</td>\n",
       "      <td>14</td>\n",
       "    </tr>\n",
       "    <tr>\n",
       "      <th>4</th>\n",
       "      <td>GP</td>\n",
       "      <td>F</td>\n",
       "      <td>16</td>\n",
       "      <td>U</td>\n",
       "      <td>GT3</td>\n",
       "      <td>T</td>\n",
       "      <td>3</td>\n",
       "      <td>3</td>\n",
       "      <td>other</td>\n",
       "      <td>other</td>\n",
       "      <td>...</td>\n",
       "      <td>4</td>\n",
       "      <td>3</td>\n",
       "      <td>2</td>\n",
       "      <td>1</td>\n",
       "      <td>2</td>\n",
       "      <td>5</td>\n",
       "      <td>0</td>\n",
       "      <td>11</td>\n",
       "      <td>13</td>\n",
       "      <td>13</td>\n",
       "    </tr>\n",
       "  </tbody>\n",
       "</table>\n",
       "<p>5 rows × 33 columns</p>\n",
       "</div>"
      ],
      "text/plain": [
       "  school sex  age address famsize Pstatus  Medu  Fedu     Mjob      Fjob  ...  \\\n",
       "0     GP   F   18       U     GT3       A     4     4  at_home   teacher  ...   \n",
       "1     GP   F   17       U     GT3       T     1     1  at_home     other  ...   \n",
       "2     GP   F   15       U     LE3       T     1     1  at_home     other  ...   \n",
       "3     GP   F   15       U     GT3       T     4     2   health  services  ...   \n",
       "4     GP   F   16       U     GT3       T     3     3    other     other  ...   \n",
       "\n",
       "  famrel freetime  goout  Dalc  Walc health absences  G1  G2  G3  \n",
       "0      4        3      4     1     1      3        4   0  11  11  \n",
       "1      5        3      3     1     1      3        2   9  11  11  \n",
       "2      4        3      2     2     3      3        6  12  13  12  \n",
       "3      3        2      2     1     1      5        0  14  14  14  \n",
       "4      4        3      2     1     2      5        0  11  13  13  \n",
       "\n",
       "[5 rows x 33 columns]"
      ]
     },
     "execution_count": 4,
     "metadata": {},
     "output_type": "execute_result"
    }
   ],
   "source": [
    "train_data_1.head()"
   ]
  },
  {
   "cell_type": "code",
   "execution_count": 5,
   "metadata": {},
   "outputs": [
    {
     "data": {
      "text/plain": [
       "(395, 33)"
      ]
     },
     "execution_count": 5,
     "metadata": {},
     "output_type": "execute_result"
    }
   ],
   "source": [
    "train_data.shape\n"
   ]
  },
  {
   "cell_type": "code",
   "execution_count": 6,
   "metadata": {},
   "outputs": [
    {
     "data": {
      "text/plain": [
       "(649, 33)"
      ]
     },
     "execution_count": 6,
     "metadata": {},
     "output_type": "execute_result"
    }
   ],
   "source": [
    "train_data_1.shape"
   ]
  },
  {
   "cell_type": "code",
   "execution_count": 7,
   "metadata": {},
   "outputs": [
    {
     "name": "stdout",
     "output_type": "stream",
     "text": [
      "The Number of Mathematics Student Data: 395\n",
      "The Number of Portuguese Student Data: 649\n"
     ]
    }
   ],
   "source": [
    "print(\"The Number of Mathematics Student Data:\",len(train_data))\n",
    "print(\"The Number of Portuguese Student Data:\",len(train_data_1))\n"
   ]
  },
  {
   "cell_type": "code",
   "execution_count": 8,
   "metadata": {},
   "outputs": [],
   "source": [
    "# merge datasets\n",
    "student_df = pd.concat([train_data, train_data_1])"
   ]
  },
  {
   "cell_type": "code",
   "execution_count": 9,
   "metadata": {},
   "outputs": [
    {
     "data": {
      "text/plain": [
       "(1044, 33)"
      ]
     },
     "execution_count": 9,
     "metadata": {},
     "output_type": "execute_result"
    }
   ],
   "source": [
    "student_df.shape"
   ]
  },
  {
   "cell_type": "code",
   "execution_count": 10,
   "metadata": {},
   "outputs": [
    {
     "data": {
      "text/plain": [
       "Index(['school', 'sex', 'age', 'address', 'famsize', 'Pstatus', 'Medu', 'Fedu',\n",
       "       'Mjob', 'Fjob', 'reason', 'guardian', 'traveltime', 'studytime',\n",
       "       'failures', 'schoolsup', 'famsup', 'paid', 'activities', 'nursery',\n",
       "       'higher', 'internet', 'romantic', 'famrel', 'freetime', 'goout', 'Dalc',\n",
       "       'Walc', 'health', 'absences', 'G1', 'G2', 'G3'],\n",
       "      dtype='object')"
      ]
     },
     "execution_count": 10,
     "metadata": {},
     "output_type": "execute_result"
    }
   ],
   "source": [
    "student_df.columns"
   ]
  },
  {
   "cell_type": "code",
   "execution_count": 11,
   "metadata": {},
   "outputs": [],
   "source": [
    "# rename column labels\n",
    "student_df.columns = ['school','sex','age','address','family_size','parents_cohabitation_status','mother_education','father_education',\n",
    "           'mother_job','father_job','reason','guardian','commute_time','study_time','failures','school_support',\n",
    "          'family_support','paid_classes','activities','nursery','desire_higher_edu','internet','romantic','family_quality',\n",
    "          'free_time','go_out_with_friends','weekday_alcohol_usage','weekend_alcohol_usage','health','absences','period_1_score','period_2_score','final_score']"
   ]
  },
  {
   "cell_type": "code",
   "execution_count": 12,
   "metadata": {},
   "outputs": [
    {
     "data": {
      "text/html": [
       "<div>\n",
       "<style scoped>\n",
       "    .dataframe tbody tr th:only-of-type {\n",
       "        vertical-align: middle;\n",
       "    }\n",
       "\n",
       "    .dataframe tbody tr th {\n",
       "        vertical-align: top;\n",
       "    }\n",
       "\n",
       "    .dataframe thead th {\n",
       "        text-align: right;\n",
       "    }\n",
       "</style>\n",
       "<table border=\"1\" class=\"dataframe\">\n",
       "  <thead>\n",
       "    <tr style=\"text-align: right;\">\n",
       "      <th></th>\n",
       "      <th>age</th>\n",
       "      <th>mother_education</th>\n",
       "      <th>father_education</th>\n",
       "      <th>commute_time</th>\n",
       "      <th>study_time</th>\n",
       "      <th>failures</th>\n",
       "      <th>family_quality</th>\n",
       "      <th>free_time</th>\n",
       "      <th>go_out_with_friends</th>\n",
       "      <th>weekday_alcohol_usage</th>\n",
       "      <th>weekend_alcohol_usage</th>\n",
       "      <th>health</th>\n",
       "      <th>absences</th>\n",
       "      <th>period_1_score</th>\n",
       "      <th>period_2_score</th>\n",
       "      <th>final_score</th>\n",
       "    </tr>\n",
       "  </thead>\n",
       "  <tbody>\n",
       "    <tr>\n",
       "      <th>count</th>\n",
       "      <td>1044.000000</td>\n",
       "      <td>1044.000000</td>\n",
       "      <td>1044.000000</td>\n",
       "      <td>1044.000000</td>\n",
       "      <td>1044.000000</td>\n",
       "      <td>1044.000000</td>\n",
       "      <td>1044.000000</td>\n",
       "      <td>1044.000000</td>\n",
       "      <td>1044.000000</td>\n",
       "      <td>1044.000000</td>\n",
       "      <td>1044.000000</td>\n",
       "      <td>1044.000000</td>\n",
       "      <td>1044.000000</td>\n",
       "      <td>1044.000000</td>\n",
       "      <td>1044.000000</td>\n",
       "      <td>1044.000000</td>\n",
       "    </tr>\n",
       "    <tr>\n",
       "      <th>mean</th>\n",
       "      <td>16.726054</td>\n",
       "      <td>2.603448</td>\n",
       "      <td>2.387931</td>\n",
       "      <td>1.522989</td>\n",
       "      <td>1.970307</td>\n",
       "      <td>0.264368</td>\n",
       "      <td>3.935824</td>\n",
       "      <td>3.201149</td>\n",
       "      <td>3.156130</td>\n",
       "      <td>1.494253</td>\n",
       "      <td>2.284483</td>\n",
       "      <td>3.543103</td>\n",
       "      <td>4.434866</td>\n",
       "      <td>11.213602</td>\n",
       "      <td>11.246169</td>\n",
       "      <td>11.341954</td>\n",
       "    </tr>\n",
       "    <tr>\n",
       "      <th>std</th>\n",
       "      <td>1.239975</td>\n",
       "      <td>1.124907</td>\n",
       "      <td>1.099938</td>\n",
       "      <td>0.731727</td>\n",
       "      <td>0.834353</td>\n",
       "      <td>0.656142</td>\n",
       "      <td>0.933401</td>\n",
       "      <td>1.031507</td>\n",
       "      <td>1.152575</td>\n",
       "      <td>0.911714</td>\n",
       "      <td>1.285105</td>\n",
       "      <td>1.424703</td>\n",
       "      <td>6.210017</td>\n",
       "      <td>2.983394</td>\n",
       "      <td>3.285071</td>\n",
       "      <td>3.864796</td>\n",
       "    </tr>\n",
       "    <tr>\n",
       "      <th>min</th>\n",
       "      <td>15.000000</td>\n",
       "      <td>0.000000</td>\n",
       "      <td>0.000000</td>\n",
       "      <td>1.000000</td>\n",
       "      <td>1.000000</td>\n",
       "      <td>0.000000</td>\n",
       "      <td>1.000000</td>\n",
       "      <td>1.000000</td>\n",
       "      <td>1.000000</td>\n",
       "      <td>1.000000</td>\n",
       "      <td>1.000000</td>\n",
       "      <td>1.000000</td>\n",
       "      <td>0.000000</td>\n",
       "      <td>0.000000</td>\n",
       "      <td>0.000000</td>\n",
       "      <td>0.000000</td>\n",
       "    </tr>\n",
       "    <tr>\n",
       "      <th>25%</th>\n",
       "      <td>16.000000</td>\n",
       "      <td>2.000000</td>\n",
       "      <td>1.000000</td>\n",
       "      <td>1.000000</td>\n",
       "      <td>1.000000</td>\n",
       "      <td>0.000000</td>\n",
       "      <td>4.000000</td>\n",
       "      <td>3.000000</td>\n",
       "      <td>2.000000</td>\n",
       "      <td>1.000000</td>\n",
       "      <td>1.000000</td>\n",
       "      <td>3.000000</td>\n",
       "      <td>0.000000</td>\n",
       "      <td>9.000000</td>\n",
       "      <td>9.000000</td>\n",
       "      <td>10.000000</td>\n",
       "    </tr>\n",
       "    <tr>\n",
       "      <th>50%</th>\n",
       "      <td>17.000000</td>\n",
       "      <td>3.000000</td>\n",
       "      <td>2.000000</td>\n",
       "      <td>1.000000</td>\n",
       "      <td>2.000000</td>\n",
       "      <td>0.000000</td>\n",
       "      <td>4.000000</td>\n",
       "      <td>3.000000</td>\n",
       "      <td>3.000000</td>\n",
       "      <td>1.000000</td>\n",
       "      <td>2.000000</td>\n",
       "      <td>4.000000</td>\n",
       "      <td>2.000000</td>\n",
       "      <td>11.000000</td>\n",
       "      <td>11.000000</td>\n",
       "      <td>11.000000</td>\n",
       "    </tr>\n",
       "    <tr>\n",
       "      <th>75%</th>\n",
       "      <td>18.000000</td>\n",
       "      <td>4.000000</td>\n",
       "      <td>3.000000</td>\n",
       "      <td>2.000000</td>\n",
       "      <td>2.000000</td>\n",
       "      <td>0.000000</td>\n",
       "      <td>5.000000</td>\n",
       "      <td>4.000000</td>\n",
       "      <td>4.000000</td>\n",
       "      <td>2.000000</td>\n",
       "      <td>3.000000</td>\n",
       "      <td>5.000000</td>\n",
       "      <td>6.000000</td>\n",
       "      <td>13.000000</td>\n",
       "      <td>13.000000</td>\n",
       "      <td>14.000000</td>\n",
       "    </tr>\n",
       "    <tr>\n",
       "      <th>max</th>\n",
       "      <td>22.000000</td>\n",
       "      <td>4.000000</td>\n",
       "      <td>4.000000</td>\n",
       "      <td>4.000000</td>\n",
       "      <td>4.000000</td>\n",
       "      <td>3.000000</td>\n",
       "      <td>5.000000</td>\n",
       "      <td>5.000000</td>\n",
       "      <td>5.000000</td>\n",
       "      <td>5.000000</td>\n",
       "      <td>5.000000</td>\n",
       "      <td>5.000000</td>\n",
       "      <td>75.000000</td>\n",
       "      <td>19.000000</td>\n",
       "      <td>19.000000</td>\n",
       "      <td>20.000000</td>\n",
       "    </tr>\n",
       "  </tbody>\n",
       "</table>\n",
       "</div>"
      ],
      "text/plain": [
       "               age  mother_education  father_education  commute_time  \\\n",
       "count  1044.000000       1044.000000       1044.000000   1044.000000   \n",
       "mean     16.726054          2.603448          2.387931      1.522989   \n",
       "std       1.239975          1.124907          1.099938      0.731727   \n",
       "min      15.000000          0.000000          0.000000      1.000000   \n",
       "25%      16.000000          2.000000          1.000000      1.000000   \n",
       "50%      17.000000          3.000000          2.000000      1.000000   \n",
       "75%      18.000000          4.000000          3.000000      2.000000   \n",
       "max      22.000000          4.000000          4.000000      4.000000   \n",
       "\n",
       "        study_time     failures  family_quality    free_time  \\\n",
       "count  1044.000000  1044.000000     1044.000000  1044.000000   \n",
       "mean      1.970307     0.264368        3.935824     3.201149   \n",
       "std       0.834353     0.656142        0.933401     1.031507   \n",
       "min       1.000000     0.000000        1.000000     1.000000   \n",
       "25%       1.000000     0.000000        4.000000     3.000000   \n",
       "50%       2.000000     0.000000        4.000000     3.000000   \n",
       "75%       2.000000     0.000000        5.000000     4.000000   \n",
       "max       4.000000     3.000000        5.000000     5.000000   \n",
       "\n",
       "       go_out_with_friends  weekday_alcohol_usage  weekend_alcohol_usage  \\\n",
       "count          1044.000000            1044.000000            1044.000000   \n",
       "mean              3.156130               1.494253               2.284483   \n",
       "std               1.152575               0.911714               1.285105   \n",
       "min               1.000000               1.000000               1.000000   \n",
       "25%               2.000000               1.000000               1.000000   \n",
       "50%               3.000000               1.000000               2.000000   \n",
       "75%               4.000000               2.000000               3.000000   \n",
       "max               5.000000               5.000000               5.000000   \n",
       "\n",
       "            health     absences  period_1_score  period_2_score  final_score  \n",
       "count  1044.000000  1044.000000     1044.000000     1044.000000  1044.000000  \n",
       "mean      3.543103     4.434866       11.213602       11.246169    11.341954  \n",
       "std       1.424703     6.210017        2.983394        3.285071     3.864796  \n",
       "min       1.000000     0.000000        0.000000        0.000000     0.000000  \n",
       "25%       3.000000     0.000000        9.000000        9.000000    10.000000  \n",
       "50%       4.000000     2.000000       11.000000       11.000000    11.000000  \n",
       "75%       5.000000     6.000000       13.000000       13.000000    14.000000  \n",
       "max       5.000000    75.000000       19.000000       19.000000    20.000000  "
      ]
     },
     "execution_count": 12,
     "metadata": {},
     "output_type": "execute_result"
    }
   ],
   "source": [
    "#to look at the numerical fields and their describing mathematical values.\n",
    "student_df.describe() "
   ]
  },
  {
   "cell_type": "markdown",
   "metadata": {},
   "source": [
    "#### From the info available on the data, we can tell that the quality of the data is quite decent as there aren't any columns with null values and every cell has a single piece of data. This will significanlty simplify the processing stage of the data as we would not be required to compensate for null values or split dynamic data. However, there are many categorical fields in the data set and that requires some additional processing to generate better results from."
   ]
  },
  {
   "cell_type": "code",
   "execution_count": 13,
   "metadata": {},
   "outputs": [
    {
     "data": {
      "text/plain": [
       "school                         0\n",
       "sex                            0\n",
       "age                            0\n",
       "address                        0\n",
       "family_size                    0\n",
       "parents_cohabitation_status    0\n",
       "mother_education               0\n",
       "father_education               0\n",
       "mother_job                     0\n",
       "father_job                     0\n",
       "reason                         0\n",
       "guardian                       0\n",
       "commute_time                   0\n",
       "study_time                     0\n",
       "failures                       0\n",
       "school_support                 0\n",
       "family_support                 0\n",
       "paid_classes                   0\n",
       "activities                     0\n",
       "nursery                        0\n",
       "desire_higher_edu              0\n",
       "internet                       0\n",
       "romantic                       0\n",
       "family_quality                 0\n",
       "free_time                      0\n",
       "go_out_with_friends            0\n",
       "weekday_alcohol_usage          0\n",
       "weekend_alcohol_usage          0\n",
       "health                         0\n",
       "absences                       0\n",
       "period_1_score                 0\n",
       "period_2_score                 0\n",
       "final_score                    0\n",
       "dtype: int64"
      ]
     },
     "execution_count": 13,
     "metadata": {},
     "output_type": "execute_result"
    }
   ],
   "source": [
    "# look for missing values\n",
    "student_df.isnull().sum()"
   ]
  },
  {
   "cell_type": "code",
   "execution_count": 14,
   "metadata": {},
   "outputs": [
    {
     "data": {
      "text/plain": [
       "0"
      ]
     },
     "execution_count": 14,
     "metadata": {},
     "output_type": "execute_result"
    }
   ],
   "source": [
    "# look for the sum of missing values\n",
    "student_df.isnull().sum().sum()"
   ]
  },
  {
   "cell_type": "code",
   "execution_count": 15,
   "metadata": {},
   "outputs": [
    {
     "data": {
      "text/plain": [
       "0"
      ]
     },
     "execution_count": 15,
     "metadata": {},
     "output_type": "execute_result"
    }
   ],
   "source": [
    "##checking for duplicates\n",
    "student_df.duplicated().sum()"
   ]
  },
  {
   "cell_type": "code",
   "execution_count": 16,
   "metadata": {},
   "outputs": [
    {
     "data": {
      "text/plain": [
       "Index(['school', 'sex', 'age', 'address', 'family_size',\n",
       "       'parents_cohabitation_status', 'mother_education', 'father_education',\n",
       "       'mother_job', 'father_job', 'reason', 'guardian', 'commute_time',\n",
       "       'study_time', 'failures', 'school_support', 'family_support',\n",
       "       'paid_classes', 'activities', 'nursery', 'desire_higher_edu',\n",
       "       'internet', 'romantic', 'family_quality', 'free_time',\n",
       "       'go_out_with_friends', 'weekday_alcohol_usage', 'weekend_alcohol_usage',\n",
       "       'health', 'absences', 'period_1_score', 'period_2_score',\n",
       "       'final_score'],\n",
       "      dtype='object')"
      ]
     },
     "execution_count": 16,
     "metadata": {},
     "output_type": "execute_result"
    }
   ],
   "source": [
    "student_df.columns"
   ]
  },
  {
   "cell_type": "markdown",
   "metadata": {},
   "source": [
    "#### Transforming Values and Types\n",
    "##### Some columns have numbers that represent categorical values. I'm going to change the name in some of these columns to make clearer what they mean.\n",
    "\n",
    "##### I'm also going to change the type of the columns labeled numeric when they actually are categories"
   ]
  },
  {
   "cell_type": "code",
   "execution_count": 17,
   "metadata": {},
   "outputs": [],
   "source": [
    "student_df['commute_time'] = student_df['commute_time'].map({1: '<15m', 2: '15-30m', 3: '30-1h', 4: '>1h'})\n",
    "\n",
    "student_df['study_time'] = student_df['study_time'].map({1: '<2h', 2: '2-5h', 3: '5-10h', 4: '>10h'})"
   ]
  },
  {
   "cell_type": "code",
   "execution_count": 18,
   "metadata": {},
   "outputs": [],
   "source": [
    "student_df[['mother_education','father_education','family_quality','go_out_with_friends','weekday_alcohol_usage','weekend_alcohol_usage','health']] = \\\n",
    "student_df[['mother_education','father_education','family_quality','go_out_with_friends','weekday_alcohol_usage','weekend_alcohol_usage','health']].astype('object')"
   ]
  },
  {
   "cell_type": "code",
   "execution_count": 19,
   "metadata": {},
   "outputs": [],
   "source": [
    "data = student_df.copy()"
   ]
  },
  {
   "cell_type": "code",
   "execution_count": 20,
   "metadata": {},
   "outputs": [
    {
     "name": "stdout",
     "output_type": "stream",
     "text": [
      "school:  ['GP' 'MS']  ->  [0 1]\n",
      "sex:  ['F' 'M']  ->  [0 1]\n",
      "address:  ['U' 'R']  ->  [0 1]\n",
      "family_size:  ['GT3' 'LE3']  ->  [1 0]\n",
      "parents_cohabitation_status:  ['A' 'T']  ->  [0 1]\n",
      "mother_job:  ['at_home' 'health' 'other' 'services' 'teacher']  ->  [0 2 4 3 1]\n",
      "father_job:  ['teacher' 'other' 'services' 'health' 'at_home']  ->  [1 4 3 2 0]\n",
      "reason:  ['course' 'other' 'home' 'reputation']  ->  [2 3 0 1]\n",
      "guardian:  ['mother' 'father' 'other']  ->  [0 1 2]\n",
      "school_support:  ['yes' 'no']  ->  [1 0]\n",
      "family_support:  ['no' 'yes']  ->  [0 1]\n",
      "paid_classes:  ['no' 'yes']  ->  [0 1]\n",
      "activities:  ['no' 'yes']  ->  [0 1]\n",
      "nursery:  ['yes' 'no']  ->  [1 0]\n",
      "desire_higher_edu:  ['yes' 'no']  ->  [1 0]\n",
      "internet:  ['no' 'yes']  ->  [0 1]\n",
      "romantic:  ['no' 'yes']  ->  [0 1]\n"
     ]
    }
   ],
   "source": [
    "# data preprocessing\n",
    "\n",
    "#school\n",
    "data.loc[data['school']=='GP','school'] = 0\n",
    "data.loc[data['school']=='MS','school'] = 1\n",
    "print('school: ',student_df.school.unique(),' -> ',data.school.unique())\n",
    "\n",
    "#sex\n",
    "data.loc[data['sex']=='F','sex'] = 0\n",
    "data.loc[data['sex']=='M','sex'] = 1\n",
    "print('sex: ',student_df.sex.unique(),' -> ',data.sex.unique())\n",
    "\n",
    "#address\n",
    "data.loc[data['address']=='U','address'] = 0\n",
    "data.loc[data['address']=='R','address'] = 1\n",
    "print('address: ',student_df.address.unique(),' -> ',data.address.unique())\n",
    "\n",
    "#family size \n",
    "data.loc[data['family_size']=='LE3','family_size'] = 0\n",
    "data.loc[data['family_size']=='GT3','family_size'] = 1\n",
    "print('family_size: ',student_df.family_size.unique(),' -> ',data.family_size.unique())\n",
    "\n",
    "#parent's cohabitaiion\n",
    "data.loc[data['parents_cohabitation_status']=='A','parents_cohabitation_status'] = 0\n",
    "data.loc[data['parents_cohabitation_status']=='T','parents_cohabitation_status'] = 1\n",
    "print('parents_cohabitation_status: ',student_df.parents_cohabitation_status.unique(),' -> ',data.parents_cohabitation_status.unique())\n",
    "\n",
    "#mother's job\n",
    "data.loc[data['mother_job']=='at_home','mother_job'] = 0\n",
    "data.loc[data['mother_job']=='teacher','mother_job'] = 1\n",
    "data.loc[data['mother_job']=='health','mother_job'] = 2\n",
    "data.loc[data['mother_job']=='services','mother_job'] = 3\n",
    "data.loc[data['mother_job']=='other','mother_job'] = 4\n",
    "print('mother_job: ',student_df.mother_job.unique(),' -> ',data.mother_job.unique())\n",
    "\n",
    "#father's job\n",
    "data.loc[data['father_job']=='at_home','father_job'] = 0\n",
    "data.loc[data['father_job']=='teacher','father_job'] = 1\n",
    "data.loc[data['father_job']=='health','father_job'] = 2\n",
    "data.loc[data['father_job']=='services','father_job'] = 3\n",
    "data.loc[data['father_job']=='other','father_job'] = 4\n",
    "print('father_job: ',student_df.father_job.unique(),' -> ',data.father_job.unique())\n",
    "\n",
    "#reason\n",
    "data.loc[data['reason']=='home','reason'] = 0\n",
    "data.loc[data['reason']=='reputation','reason'] = 1\n",
    "data.loc[data['reason']=='course','reason'] = 2\n",
    "data.loc[data['reason']=='other','reason'] = 3\n",
    "print('reason: ',student_df.reason.unique(),' -> ',data.reason.unique())\n",
    "\n",
    "#guardian\n",
    "data.loc[data['guardian']=='mother','guardian'] = 0\n",
    "data.loc[data['guardian']=='father','guardian'] = 1\n",
    "data.loc[data['guardian']=='other','guardian'] = 2\n",
    "print('guardian: ',student_df.guardian.unique(),' -> ',data.guardian.unique())\n",
    "\n",
    "#school support\n",
    "data.loc[data['school_support']=='no','school_support'] = 0\n",
    "data.loc[data['school_support']=='yes','school_support'] = 1\n",
    "print('school_support: ',student_df.school_support.unique(),' -> ',data.school_support.unique())\n",
    "\n",
    "#family support\n",
    "data.loc[data['family_support']=='no','family_support'] = 0\n",
    "data.loc[data['family_support']=='yes','family_support'] = 1\n",
    "print('family_support: ',student_df.family_support.unique(),' -> ',data.family_support.unique())\n",
    "\n",
    "#paid_classes\n",
    "data.loc[data['paid_classes']=='no','paid_classes'] = 0\n",
    "data.loc[data['paid_classes']=='yes','paid_classes'] = 1\n",
    "print('paid_classes: ',student_df.paid_classes.unique(),' -> ',data.paid_classes.unique())\n",
    "\n",
    "#activities\n",
    "data.loc[data['activities']=='no','activities'] = 0\n",
    "data.loc[data['activities']=='yes','activities'] = 1\n",
    "print('activities: ',student_df.activities.unique(),' -> ',data.activities.unique())\n",
    "\n",
    "#nursery\n",
    "data.loc[data['nursery']=='no','nursery'] = 0\n",
    "data.loc[data['nursery']=='yes','nursery'] = 1\n",
    "print('nursery: ',student_df.nursery.unique(),' -> ',data.nursery.unique())\n",
    "\n",
    "#higher edu\n",
    "data.loc[data['desire_higher_edu']=='no','desire_higher_edu'] = 0\n",
    "data.loc[data['desire_higher_edu']=='yes','desire_higher_edu'] = 1\n",
    "print('desire_higher_edu: ',student_df.desire_higher_edu.unique(),' -> ',data.desire_higher_edu.unique())\n",
    "\n",
    "#internet \n",
    "data.loc[data['internet']=='no','internet'] = 0\n",
    "data.loc[data['internet']=='yes','internet'] = 1\n",
    "print('internet: ',student_df.internet.unique(),' -> ',data.internet.unique())\n",
    "\n",
    "#romantic \n",
    "data.loc[data['romantic']=='no','romantic'] = 0\n",
    "data.loc[data['romantic']=='yes','romantic'] = 1\n",
    "print('romantic: ',student_df.romantic.unique(),' -> ',data.romantic.unique())"
   ]
  },
  {
   "cell_type": "code",
   "execution_count": 21,
   "metadata": {},
   "outputs": [
    {
     "data": {
      "text/html": [
       "<div>\n",
       "<style scoped>\n",
       "    .dataframe tbody tr th:only-of-type {\n",
       "        vertical-align: middle;\n",
       "    }\n",
       "\n",
       "    .dataframe tbody tr th {\n",
       "        vertical-align: top;\n",
       "    }\n",
       "\n",
       "    .dataframe thead th {\n",
       "        text-align: right;\n",
       "    }\n",
       "</style>\n",
       "<table border=\"1\" class=\"dataframe\">\n",
       "  <thead>\n",
       "    <tr style=\"text-align: right;\">\n",
       "      <th></th>\n",
       "      <th>school</th>\n",
       "      <th>sex</th>\n",
       "      <th>age</th>\n",
       "      <th>address</th>\n",
       "      <th>family_size</th>\n",
       "      <th>parents_cohabitation_status</th>\n",
       "      <th>mother_education</th>\n",
       "      <th>father_education</th>\n",
       "      <th>mother_job</th>\n",
       "      <th>father_job</th>\n",
       "      <th>...</th>\n",
       "      <th>family_quality</th>\n",
       "      <th>free_time</th>\n",
       "      <th>go_out_with_friends</th>\n",
       "      <th>weekday_alcohol_usage</th>\n",
       "      <th>weekend_alcohol_usage</th>\n",
       "      <th>health</th>\n",
       "      <th>absences</th>\n",
       "      <th>period_1_score</th>\n",
       "      <th>period_2_score</th>\n",
       "      <th>final_score</th>\n",
       "    </tr>\n",
       "  </thead>\n",
       "  <tbody>\n",
       "    <tr>\n",
       "      <th>98</th>\n",
       "      <td>GP</td>\n",
       "      <td>F</td>\n",
       "      <td>16</td>\n",
       "      <td>U</td>\n",
       "      <td>GT3</td>\n",
       "      <td>T</td>\n",
       "      <td>4</td>\n",
       "      <td>4</td>\n",
       "      <td>other</td>\n",
       "      <td>other</td>\n",
       "      <td>...</td>\n",
       "      <td>5</td>\n",
       "      <td>3</td>\n",
       "      <td>4</td>\n",
       "      <td>1</td>\n",
       "      <td>2</td>\n",
       "      <td>1</td>\n",
       "      <td>4</td>\n",
       "      <td>12</td>\n",
       "      <td>13</td>\n",
       "      <td>13</td>\n",
       "    </tr>\n",
       "    <tr>\n",
       "      <th>109</th>\n",
       "      <td>GP</td>\n",
       "      <td>F</td>\n",
       "      <td>16</td>\n",
       "      <td>U</td>\n",
       "      <td>LE3</td>\n",
       "      <td>T</td>\n",
       "      <td>4</td>\n",
       "      <td>4</td>\n",
       "      <td>health</td>\n",
       "      <td>health</td>\n",
       "      <td>...</td>\n",
       "      <td>5</td>\n",
       "      <td>4</td>\n",
       "      <td>5</td>\n",
       "      <td>1</td>\n",
       "      <td>1</td>\n",
       "      <td>4</td>\n",
       "      <td>4</td>\n",
       "      <td>14</td>\n",
       "      <td>15</td>\n",
       "      <td>16</td>\n",
       "    </tr>\n",
       "    <tr>\n",
       "      <th>368</th>\n",
       "      <td>GP</td>\n",
       "      <td>M</td>\n",
       "      <td>18</td>\n",
       "      <td>U</td>\n",
       "      <td>LE3</td>\n",
       "      <td>T</td>\n",
       "      <td>4</td>\n",
       "      <td>4</td>\n",
       "      <td>other</td>\n",
       "      <td>other</td>\n",
       "      <td>...</td>\n",
       "      <td>4</td>\n",
       "      <td>2</td>\n",
       "      <td>5</td>\n",
       "      <td>3</td>\n",
       "      <td>4</td>\n",
       "      <td>5</td>\n",
       "      <td>2</td>\n",
       "      <td>8</td>\n",
       "      <td>9</td>\n",
       "      <td>11</td>\n",
       "    </tr>\n",
       "    <tr>\n",
       "      <th>420</th>\n",
       "      <td>GP</td>\n",
       "      <td>F</td>\n",
       "      <td>18</td>\n",
       "      <td>U</td>\n",
       "      <td>LE3</td>\n",
       "      <td>A</td>\n",
       "      <td>2</td>\n",
       "      <td>2</td>\n",
       "      <td>services</td>\n",
       "      <td>other</td>\n",
       "      <td>...</td>\n",
       "      <td>4</td>\n",
       "      <td>1</td>\n",
       "      <td>4</td>\n",
       "      <td>1</td>\n",
       "      <td>3</td>\n",
       "      <td>4</td>\n",
       "      <td>10</td>\n",
       "      <td>14</td>\n",
       "      <td>17</td>\n",
       "      <td>17</td>\n",
       "    </tr>\n",
       "    <tr>\n",
       "      <th>107</th>\n",
       "      <td>GP</td>\n",
       "      <td>M</td>\n",
       "      <td>16</td>\n",
       "      <td>U</td>\n",
       "      <td>GT3</td>\n",
       "      <td>T</td>\n",
       "      <td>3</td>\n",
       "      <td>3</td>\n",
       "      <td>services</td>\n",
       "      <td>other</td>\n",
       "      <td>...</td>\n",
       "      <td>5</td>\n",
       "      <td>3</td>\n",
       "      <td>3</td>\n",
       "      <td>1</td>\n",
       "      <td>1</td>\n",
       "      <td>5</td>\n",
       "      <td>4</td>\n",
       "      <td>13</td>\n",
       "      <td>14</td>\n",
       "      <td>14</td>\n",
       "    </tr>\n",
       "  </tbody>\n",
       "</table>\n",
       "<p>5 rows × 33 columns</p>\n",
       "</div>"
      ],
      "text/plain": [
       "    school sex  age address family_size parents_cohabitation_status  \\\n",
       "98      GP   F   16       U         GT3                           T   \n",
       "109     GP   F   16       U         LE3                           T   \n",
       "368     GP   M   18       U         LE3                           T   \n",
       "420     GP   F   18       U         LE3                           A   \n",
       "107     GP   M   16       U         GT3                           T   \n",
       "\n",
       "    mother_education father_education mother_job father_job  ...  \\\n",
       "98                 4                4      other      other  ...   \n",
       "109                4                4     health     health  ...   \n",
       "368                4                4      other      other  ...   \n",
       "420                2                2   services      other  ...   \n",
       "107                3                3   services      other  ...   \n",
       "\n",
       "    family_quality free_time go_out_with_friends weekday_alcohol_usage  \\\n",
       "98               5         3                   4                     1   \n",
       "109              5         4                   5                     1   \n",
       "368              4         2                   5                     3   \n",
       "420              4         1                   4                     1   \n",
       "107              5         3                   3                     1   \n",
       "\n",
       "     weekend_alcohol_usage health absences period_1_score period_2_score  \\\n",
       "98                       2      1        4             12             13   \n",
       "109                      1      4        4             14             15   \n",
       "368                      4      5        2              8              9   \n",
       "420                      3      4       10             14             17   \n",
       "107                      1      5        4             13             14   \n",
       "\n",
       "    final_score  \n",
       "98           13  \n",
       "109          16  \n",
       "368          11  \n",
       "420          17  \n",
       "107          14  \n",
       "\n",
       "[5 rows x 33 columns]"
      ]
     },
     "execution_count": 21,
     "metadata": {},
     "output_type": "execute_result"
    }
   ],
   "source": [
    "student_df.sample(5)"
   ]
  },
  {
   "cell_type": "markdown",
   "metadata": {},
   "source": [
    "#### Categorical Encoding\n",
    "##### Linear Regression required that the attribute values be numerical. Therefore, columns with categorical data need to be encoded to a suitable numeric format. Attributes with 2 categories are encoded using binary encoding which converts the values to either 1 or 0. Attributes with more than 2 categories are encoded using one-hot encoding."
   ]
  },
  {
   "cell_type": "code",
   "execution_count": null,
   "metadata": {},
   "outputs": [],
   "source": [
    "binary = [\"sex\", \"family_size\", \"parents_cohabitation_status\", \"school_support\", \"family_support\", \"paid_classes\", \"activities\", \"internet\", \"romantic\"]"
   ]
  },
  {
   "cell_type": "code",
   "execution_count": null,
   "metadata": {},
   "outputs": [],
   "source": [
    "multiple = [\"mother_education\", \"father_education\", \"father_job\", \"mother_job\", \"reason\"]"
   ]
  },
  {
   "cell_type": "code",
   "execution_count": null,
   "metadata": {},
   "outputs": [],
   "source": [
    "def binary_encoder(dataset, col):\n",
    "    dataset[col] = dataset[col].astype('category')\n",
    "    dataset[col] = dataset[col].cat.codes\n",
    "    dataset[col] = dataset[col].astype('int')"
   ]
  },
  {
   "cell_type": "code",
   "execution_count": null,
   "metadata": {},
   "outputs": [],
   "source": [
    "df = pd.get_dummies(student_df, columns=multiple, prefix=multiple)"
   ]
  },
  {
   "cell_type": "code",
   "execution_count": null,
   "metadata": {},
   "outputs": [],
   "source": [
    "for col in binary:\n",
    "    binary_encoder(df, col)"
   ]
  },
  {
   "cell_type": "code",
   "execution_count": null,
   "metadata": {},
   "outputs": [],
   "source": [
    "df.head()"
   ]
  },
  {
   "cell_type": "code",
   "execution_count": null,
   "metadata": {},
   "outputs": [],
   "source": [
    "df.dtypes"
   ]
  },
  {
   "cell_type": "code",
   "execution_count": null,
   "metadata": {},
   "outputs": [],
   "source": [
    "df.shape"
   ]
  },
  {
   "cell_type": "code",
   "execution_count": null,
   "metadata": {},
   "outputs": [],
   "source": [
    "# convert final_score to categorical variable \n",
    "# Excellent:15~20 Average:10~14 Poor:0~9\n",
    "df['final_grade'] = 'na'\n",
    "df.loc[(df.final_score >= 15) & (df.final_score <= 20), 'final_grade'] = 'excellent' \n",
    "df.loc[(df.final_score >= 10) & (df.final_score <= 14), 'final_grade'] = 'average' \n",
    "df.loc[(df.final_score >= 0) & (df.final_score <= 9), 'final_grade'] = 'poor' \n",
    "df.head(5)"
   ]
  },
  {
   "cell_type": "code",
   "execution_count": null,
   "metadata": {},
   "outputs": [],
   "source": [
    "df.head()"
   ]
  },
  {
   "cell_type": "markdown",
   "metadata": {},
   "source": [
    "#### Next up, we will take the fields (columns) one by one to analyze their importance and effect on the final score value:"
   ]
  },
  {
   "cell_type": "code",
   "execution_count": null,
   "metadata": {},
   "outputs": [],
   "source": [
    "#Plotting the distribution of the final grades.\n",
    "sns.distplot(df['final_grade']) "
   ]
  },
  {
   "cell_type": "code",
   "execution_count": null,
   "metadata": {},
   "outputs": [],
   "source": [
    "#Finding out the number of urban and rural students\n",
    "b = sns.countplot(df['address'])\n",
    "b.axes.set_title('Number of urban and rural students', fontsize = 30)\n",
    "b.set_xlabel('Address', fontsize = 20)\n",
    "b.set_ylabel('Count', fontsize = 20)\n",
    "plt.show()"
   ]
  },
  {
   "cell_type": "code",
   "execution_count": null,
   "metadata": {},
   "outputs": [],
   "source": [
    "# Grade distribution by address\n",
    "sns.kdeplot(df.loc[df['address'] == 'U', 'G3'], label='Urban', shade = True)\n",
    "sns.kdeplot(df.loc[df['address'] == 'R', 'G3'], label='Rural', shade = True)\n",
    "plt.title('Urban students performance vs rural students performance', fontsize = 20)\n",
    "plt.xlabel('Grade', fontsize = 20);\n",
    "plt.ylabel('Density', fontsize = 20)\n",
    "plt.show()"
   ]
  },
  {
   "cell_type": "markdown",
   "metadata": {},
   "source": [
    "#### Not much of a difference between urban and rural students in this particular area"
   ]
  },
  {
   "cell_type": "code",
   "execution_count": null,
   "metadata": {},
   "outputs": [],
   "source": [
    "#Distribution of students going out\n",
    "b = sns.countplot(df['goout'])\n",
    "b.axes.set_title('Frequency of students going out with friends', fontsize = 30)\n",
    "b.set_xlabel('Go out', fontsize = 20)\n",
    "b.set_ylabel('Count', fontsize = 20)\n",
    "plt.show()"
   ]
  },
  {
   "cell_type": "markdown",
   "metadata": {},
   "source": [
    "#### We can see that most students goes out with their friends on average"
   ]
  },
  {
   "cell_type": "markdown",
   "metadata": {},
   "source": [
    "#### From this we can tell that the distribution of the grades is decent and doesn't require any further skewness correction yet. We can go with this distribution for now to analyze the data and create a primitive model and it's error rate first. We can look into data processing of the final grade field afterwards if the results aren't satisfactory."
   ]
  },
  {
   "cell_type": "code",
   "execution_count": null,
   "metadata": {},
   "outputs": [],
   "source": [
    "# only works on numerical variables\n",
    "corr = df.corr() \n",
    "sns.heatmap(corr)"
   ]
  },
  {
   "cell_type": "code",
   "execution_count": null,
   "metadata": {},
   "outputs": [],
   "source": [
    "print (corr['final_score'].sort_values(ascending = False), '\\n')"
   ]
  },
  {
   "cell_type": "markdown",
   "metadata": {},
   "source": [
    "#### From the correlation graph above, we can look at the numerical fields to know the values that affect the end result the most. Obviously period_1_score and period_2_score are the most correlated fields to final score as they are part of the calculation formula for final score so they will have the greatest effect on our prediction. Another thing we can see is the negative correlation between failures and the final score result. This also makes quite a lot of sense as more failures tend to negatively affect your end score. Absences and free time seem to not be very relevant in the dataset that are analyzing which can be a flag that may help us further understand the data in the future."
   ]
  },
  {
   "cell_type": "markdown",
   "metadata": {},
   "source": [
    "#### Now that we have analyzed the numerical data slightly and figured out the most correlated fields, we now have to take a look at the categorical data to figure out how useful the fields may be and how to introduce them into the prediction model. The simplest way to analyze those fields is to compare the means accross the categories."
   ]
  },
  {
   "cell_type": "code",
   "execution_count": null,
   "metadata": {},
   "outputs": [],
   "source": [
    "groupColumns = ['school', 'sex', 'address', 'famsize', 'Pstatus', 'Mjob', 'Fjob', 'reason', 'guardian', 'schoolsup', 'famsup'\n",
    "               , 'paid', 'activities', 'nursery', 'higher', 'internet', 'romantic']\n",
    "\n",
    "avgColumns = ['G3', 'G2', 'G1']"
   ]
  },
  {
   "cell_type": "code",
   "execution_count": null,
   "metadata": {},
   "outputs": [],
   "source": [
    "school = data.groupby(groupColumns[0])[avgColumns].mean()\n",
    "school.head()"
   ]
  },
  {
   "cell_type": "markdown",
   "metadata": {},
   "source": [
    "#### From this, we see that Gabriel Pereira students generally do better than Mousinho da Silveira students. The same analysis can be done for a few more fields:"
   ]
  },
  {
   "cell_type": "code",
   "execution_count": null,
   "metadata": {},
   "outputs": [],
   "source": [
    "sex = data.groupby(groupColumns[1])[avgColumns].mean()\n",
    "sex.head()"
   ]
  },
  {
   "cell_type": "markdown",
   "metadata": {},
   "source": [
    "#### Correlation between Attributes\n",
    "##### The heatmap shows the correlation between different attributes. We can use it to find which attributes are highle correlated with the target label and select them whereas we can also drop the features that are highly correlated to other features"
   ]
  },
  {
   "cell_type": "code",
   "execution_count": null,
   "metadata": {},
   "outputs": [],
   "source": [
    "fig, ax = plt.subplots(nrows=1,ncols=1,figsize=(15,12))\n",
    "\n",
    "ax = sns.heatmap(data=df.corr(), ax=ax, cmap=\"Blues\")\n",
    "ax.set_xlabel('Features',fontdict={\"fontsize\":16})\n",
    "ax.set_ylabel('Features',fontdict={\"fontsize\":16})\n",
    "ax.set_title('Correlation between different Features', loc=\"center\", fontdict={\"fontsize\": 16, \"fontweight\":\"bold\"})\n",
    "\n",
    "plt.savefig(\"heatmap.png\", bbox_inches=\"tight\")\n",
    "plt.show()"
   ]
  },
  {
   "cell_type": "markdown",
   "metadata": {},
   "source": [
    "##### From the above heatmap, columns G1, G2 and G3 are highly correlated to each other. The below plots show this correlation."
   ]
  },
  {
   "cell_type": "code",
   "execution_count": null,
   "metadata": {},
   "outputs": [],
   "source": [
    "pairplot = sns.pairplot(dataset[[\"G1\", \"G2\", \"G3\"]], palette=\"viridis\")\n",
    "\n",
    "plt.savefig(\"pairplot.png\", bbox_inches=\"tight\")\n",
    "plt.show()"
   ]
  },
  {
   "cell_type": "code",
   "execution_count": null,
   "metadata": {},
   "outputs": [],
   "source": [
    "fig, ax = plt.subplots(nrows=1, ncols=2, figsize=(15,8))\n",
    "\n",
    "ax[0] = sns.lineplot(x=\"G1\", y=\"G3\", data=dataset, palette=\"viridis\", ax=ax[0])\n",
    "ax[0].set_xlabel('G1',fontdict={\"fontsize\":16})\n",
    "ax[0].set_ylabel('G3',fontdict={\"fontsize\":16})\n",
    "ax[0].set_title('G3 vs G1', loc=\"center\", fontdict={\"fontsize\": 16, \"fontweight\":\"bold\"})\n",
    "\n",
    "ax[1] = sns.lineplot(x=\"G2\", y=\"G3\", data=dataset, palette=\"viridis\", ax=ax[1])\n",
    "ax[1].set_xlabel('G2',fontdict={\"fontsize\":16})\n",
    "ax[1].set_ylabel('G3',fontdict={\"fontsize\":16})\n",
    "ax[1].set_title('G3 vs G2', loc=\"center\", fontdict={\"fontsize\": 16, \"fontweight\":\"bold\"})\n",
    "\n",
    "plt.savefig(\"lineplot.png\", bbox_inches=\"tight\")\n",
    "plt.show()"
   ]
  },
  {
   "cell_type": "markdown",
   "metadata": {},
   "source": [
    "### analysing 'finale grade'"
   ]
  },
  {
   "cell_type": "code",
   "execution_count": null,
   "metadata": {},
   "outputs": [],
   "source": [
    "#describe \"final grade\"\n",
    "df_train['G3'].describe()"
   ]
  },
  {
   "cell_type": "code",
   "execution_count": null,
   "metadata": {},
   "outputs": [],
   "source": [
    "#Distribution of Final grade of students\n",
    "demo= sns.countplot(df_train['G3'])\n",
    "demo.axes.set_title('Distribution of Final grade of students', fontsize = 35)\n",
    "demo.set_xlabel('Final Grade', fontsize = 20)\n",
    "demo.set_ylabel('Count', fontsize = 20)\n",
    "plt.show()"
   ]
  },
  {
   "cell_type": "markdown",
   "metadata": {},
   "source": [
    "### Apart from the high number of students scoring 0, the distribution is normal as expected.Maybe the value 0 is used in place of null. Or maybe the students who did not appear for the exam, or were not allowed to sit for the exam due to some reason are marked as 0. We cannot be sure"
   ]
  },
  {
   "cell_type": "code",
   "execution_count": null,
   "metadata": {},
   "outputs": [],
   "source": [
    "#Serialized representation\n",
    "import pickle\n",
    "model = 'LinearRegressionModel.sav'\n",
    "pickle.dump(regressor, open(model, 'wb'))"
   ]
  }
 ],
 "metadata": {
  "interpreter": {
   "hash": "b3ba2566441a7c06988d0923437866b63cedc61552a5af99d1f4fb67d367b25f"
  },
  "kernelspec": {
   "display_name": "Python 3.8.8 64-bit ('base': conda)",
   "name": "python3"
  },
  "language_info": {
   "codemirror_mode": {
    "name": "ipython",
    "version": 3
   },
   "file_extension": ".py",
   "mimetype": "text/x-python",
   "name": "python",
   "nbconvert_exporter": "python",
   "pygments_lexer": "ipython3",
   "version": "3.8.8"
  },
  "orig_nbformat": 4
 },
 "nbformat": 4,
 "nbformat_minor": 2
}
